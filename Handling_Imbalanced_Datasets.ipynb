{
  "nbformat": 4,
  "nbformat_minor": 0,
  "metadata": {
    "kernelspec": {
      "display_name": "Python 3",
      "language": "python",
      "name": "python3"
    },
    "language_info": {
      "codemirror_mode": {
        "name": "ipython",
        "version": 3
      },
      "file_extension": ".py",
      "mimetype": "text/x-python",
      "name": "python",
      "nbconvert_exporter": "python",
      "pygments_lexer": "ipython3",
      "version": "3.6.7"
    },
    "colab": {
      "name": "Handling Imbalanced Data- Over Sampling.ipynb",
      "provenance": [],
      "include_colab_link": true
    }
  },
  "cells": [
    {
      "cell_type": "markdown",
      "metadata": {
        "id": "view-in-github",
        "colab_type": "text"
      },
      "source": [
        "<a href=\"https://colab.research.google.com/github/andresperez86/statictics_learning_methods/blob/master/Handling_Imbalanced_Datasets.ipynb\" target=\"_parent\"><img src=\"https://colab.research.google.com/assets/colab-badge.svg\" alt=\"Open In Colab\"/></a>"
      ]
    },
    {
      "cell_type": "markdown",
      "metadata": {
        "id": "k0f56nsj4E90",
        "colab_type": "text"
      },
      "source": [
        "## Dseafio Kaggle Detección de fraude con tarjeta de crédito : fijación de conjuntos de datos desequilibrados\n",
        "\n",
        "### Contexto\n",
        "Es importante que las compañías de tarjetas de crédito puedan reconocer transacciones fraudulentas de tarjetas de crédito para que a los clientes no se les cobre por los artículos que no compraron.\n",
        "\n",
        "### Contenido\n",
        "Los conjuntos de datos contienen transacciones realizadas con tarjetas de crédito en septiembre de 2013 por titulares de tarjetas europeos. Este conjunto de datos presenta transacciones que ocurrieron en dos días, donde tenemos 492 fraudes de 284,807 transacciones. El conjunto de datos está altamente desequilibrado, la clase positiva (fraudes) representa el 0.172% de todas las transacciones.\n",
        "\n",
        "Contiene solo variables de entrada numéricas que son el resultado de una transformación con Análisis de componentes pricipales(PCA). Desafortunadamente, debido a problemas de confidencialidad, no podemos proporcionar las características originales y más información de fondo sobre los datos. Las características V1, V2, ... V28 son los componentes principales obtenidos con PCA, las únicas características que no se han transformado con PCA son 'Tiempo' y 'Cantidad'. La función 'Tiempo' contiene los segundos transcurridos entre cada transacción y la primera transacción en el conjunto de datos. La característica 'Cantidad' es la Cantidad de la transacción, esta característica se puede utilizar para el aprendizaje sensible al costo dependiente del ejemplo. La característica 'Clase' es la variable de respuesta y toma el valor 1 en caso de fraude y 0 en caso contrario.\n",
        "\n",
        "### Inspiracion\n",
        "Identificar transacciones fraudulentas con tarjeta de crédito.\n",
        "\n",
        "Dada la relación de desequilibrio de clase, recomendamos medir la precisión utilizando el área bajo la curva de precisión-recuperación (AUPRC). La precisión de la matriz de confusión no es significativa para la clasificación desequilibrada.\n",
        "\n",
        "### Agradecimientos.\n",
        "El conjunto de datos se ha recopilado y analizado durante una colaboración de investigación de Worldline y el Machine Learning Group (http://mlg.ulb.ac.be) de ULB (Université Libre de Bruxelles) sobre minería de datos grandes y detección de fraude. Más detalles sobre proyectos actuales y pasados sobre temas relacionados están disponibles en https://www.researchgate.net/project/Fraud-detection-5 y la página del proyecto DefeatFraud"
      ]
    },
    {
      "cell_type": "code",
      "metadata": {
        "id": "fDe-9AD59OHl",
        "colab_type": "code",
        "outputId": "8c2f3106-de02-4c89-c0c8-bbe2872432d1",
        "colab": {
          "base_uri": "https://localhost:8080/",
          "height": 33
        }
      },
      "source": [
        "from google.colab import drive\n",
        "drive.mount('/content/drive')"
      ],
      "execution_count": 115,
      "outputs": [
        {
          "output_type": "stream",
          "text": [
            "Drive already mounted at /content/drive; to attempt to forcibly remount, call drive.mount(\"/content/drive\", force_remount=True).\n"
          ],
          "name": "stdout"
        }
      ]
    },
    {
      "cell_type": "code",
      "metadata": {
        "id": "WJrqlUBU4E91",
        "colab_type": "code",
        "colab": {}
      },
      "source": [
        "import numpy as np\n",
        "import pandas as pd\n",
        "import matplotlib.pyplot as plt\n",
        "import seaborn as sns\n",
        "\n",
        "from sklearn.model_selection import train_test_split\n",
        "from sklearn.linear_model import LogisticRegression\n",
        "from sklearn.dummy import DummyClassifier\n",
        "from sklearn.metrics import accuracy_score, f1_score, confusion_matrix, recall_score, roc_curve, roc_auc_score\n",
        "from sklearn.metrics import plot_confusion_matrix\n",
        "# rcParams['figure.figsize'] = 20, 8 \n",
        "RANDOM_SEED = 42\n",
        "LABELS = [\"Not Fraud\", \"Fraud\"]"
      ],
      "execution_count": 0,
      "outputs": []
    },
    {
      "cell_type": "code",
      "metadata": {
        "id": "b-ZrHlPVAzf9",
        "colab_type": "code",
        "outputId": "257017c2-84e2-403a-f673-be6dfbaded53",
        "colab": {
          "base_uri": "https://localhost:8080/",
          "height": 50
        }
      },
      "source": [
        "!mkdir ./local/\n",
        "!mkdir ./local/datasets/"
      ],
      "execution_count": 117,
      "outputs": [
        {
          "output_type": "stream",
          "text": [
            "mkdir: cannot create directory ‘./local/’: File exists\n",
            "mkdir: cannot create directory ‘./local/datasets/’: File exists\n"
          ],
          "name": "stdout"
        }
      ]
    },
    {
      "cell_type": "code",
      "metadata": {
        "id": "V_yXvKUy-j_m",
        "colab_type": "code",
        "colab": {}
      },
      "source": [
        "ruta_zip='/content/drive/My Drive/MAESTRÍA/STATISTICAL LEARNING/Imbalance Learning/creditcard.csv.zip'\n",
        "dataset_dir = \"./local/datasets/\"\n",
        "password = None"
      ],
      "execution_count": 0,
      "outputs": []
    },
    {
      "cell_type": "code",
      "metadata": {
        "id": "--hHleQHBY5W",
        "colab_type": "code",
        "outputId": "e35497b3-2828-4e1e-d826-7bf35986b720",
        "colab": {
          "base_uri": "https://localhost:8080/",
          "height": 33
        }
      },
      "source": [
        "import zipfile\n",
        "\n",
        "archivo_zip = zipfile.ZipFile(ruta_zip, \"r\")\n",
        "try:\n",
        "    print(archivo_zip.namelist())\n",
        "    archivo_zip.extractall(pwd=password, path=dataset_dir)\n",
        "\n",
        "except:\n",
        "    pass\n",
        "archivo_zip.close()"
      ],
      "execution_count": 119,
      "outputs": [
        {
          "output_type": "stream",
          "text": [
            "['creditcard.csv']\n"
          ],
          "name": "stdout"
        }
      ]
    },
    {
      "cell_type": "code",
      "metadata": {
        "id": "a2qNTwM24E95",
        "colab_type": "code",
        "outputId": "597e9e4b-2a11-47fc-e2e4-0b1b85266980",
        "colab": {
          "base_uri": "https://localhost:8080/",
          "height": 217
        }
      },
      "source": [
        "data = pd.read_csv(dataset_dir+'creditcard.csv',sep=',')\n",
        "data.head()"
      ],
      "execution_count": 120,
      "outputs": [
        {
          "output_type": "execute_result",
          "data": {
            "text/html": [
              "<div>\n",
              "<style scoped>\n",
              "    .dataframe tbody tr th:only-of-type {\n",
              "        vertical-align: middle;\n",
              "    }\n",
              "\n",
              "    .dataframe tbody tr th {\n",
              "        vertical-align: top;\n",
              "    }\n",
              "\n",
              "    .dataframe thead th {\n",
              "        text-align: right;\n",
              "    }\n",
              "</style>\n",
              "<table border=\"1\" class=\"dataframe\">\n",
              "  <thead>\n",
              "    <tr style=\"text-align: right;\">\n",
              "      <th></th>\n",
              "      <th>Time</th>\n",
              "      <th>V1</th>\n",
              "      <th>V2</th>\n",
              "      <th>V3</th>\n",
              "      <th>V4</th>\n",
              "      <th>V5</th>\n",
              "      <th>V6</th>\n",
              "      <th>V7</th>\n",
              "      <th>V8</th>\n",
              "      <th>V9</th>\n",
              "      <th>V10</th>\n",
              "      <th>V11</th>\n",
              "      <th>V12</th>\n",
              "      <th>V13</th>\n",
              "      <th>V14</th>\n",
              "      <th>V15</th>\n",
              "      <th>V16</th>\n",
              "      <th>V17</th>\n",
              "      <th>V18</th>\n",
              "      <th>V19</th>\n",
              "      <th>V20</th>\n",
              "      <th>V21</th>\n",
              "      <th>V22</th>\n",
              "      <th>V23</th>\n",
              "      <th>V24</th>\n",
              "      <th>V25</th>\n",
              "      <th>V26</th>\n",
              "      <th>V27</th>\n",
              "      <th>V28</th>\n",
              "      <th>Amount</th>\n",
              "      <th>Class</th>\n",
              "    </tr>\n",
              "  </thead>\n",
              "  <tbody>\n",
              "    <tr>\n",
              "      <th>0</th>\n",
              "      <td>0.0</td>\n",
              "      <td>-1.359807</td>\n",
              "      <td>-0.072781</td>\n",
              "      <td>2.536347</td>\n",
              "      <td>1.378155</td>\n",
              "      <td>-0.338321</td>\n",
              "      <td>0.462388</td>\n",
              "      <td>0.239599</td>\n",
              "      <td>0.098698</td>\n",
              "      <td>0.363787</td>\n",
              "      <td>0.090794</td>\n",
              "      <td>-0.551600</td>\n",
              "      <td>-0.617801</td>\n",
              "      <td>-0.991390</td>\n",
              "      <td>-0.311169</td>\n",
              "      <td>1.468177</td>\n",
              "      <td>-0.470401</td>\n",
              "      <td>0.207971</td>\n",
              "      <td>0.025791</td>\n",
              "      <td>0.403993</td>\n",
              "      <td>0.251412</td>\n",
              "      <td>-0.018307</td>\n",
              "      <td>0.277838</td>\n",
              "      <td>-0.110474</td>\n",
              "      <td>0.066928</td>\n",
              "      <td>0.128539</td>\n",
              "      <td>-0.189115</td>\n",
              "      <td>0.133558</td>\n",
              "      <td>-0.021053</td>\n",
              "      <td>149.62</td>\n",
              "      <td>0</td>\n",
              "    </tr>\n",
              "    <tr>\n",
              "      <th>1</th>\n",
              "      <td>0.0</td>\n",
              "      <td>1.191857</td>\n",
              "      <td>0.266151</td>\n",
              "      <td>0.166480</td>\n",
              "      <td>0.448154</td>\n",
              "      <td>0.060018</td>\n",
              "      <td>-0.082361</td>\n",
              "      <td>-0.078803</td>\n",
              "      <td>0.085102</td>\n",
              "      <td>-0.255425</td>\n",
              "      <td>-0.166974</td>\n",
              "      <td>1.612727</td>\n",
              "      <td>1.065235</td>\n",
              "      <td>0.489095</td>\n",
              "      <td>-0.143772</td>\n",
              "      <td>0.635558</td>\n",
              "      <td>0.463917</td>\n",
              "      <td>-0.114805</td>\n",
              "      <td>-0.183361</td>\n",
              "      <td>-0.145783</td>\n",
              "      <td>-0.069083</td>\n",
              "      <td>-0.225775</td>\n",
              "      <td>-0.638672</td>\n",
              "      <td>0.101288</td>\n",
              "      <td>-0.339846</td>\n",
              "      <td>0.167170</td>\n",
              "      <td>0.125895</td>\n",
              "      <td>-0.008983</td>\n",
              "      <td>0.014724</td>\n",
              "      <td>2.69</td>\n",
              "      <td>0</td>\n",
              "    </tr>\n",
              "    <tr>\n",
              "      <th>2</th>\n",
              "      <td>1.0</td>\n",
              "      <td>-1.358354</td>\n",
              "      <td>-1.340163</td>\n",
              "      <td>1.773209</td>\n",
              "      <td>0.379780</td>\n",
              "      <td>-0.503198</td>\n",
              "      <td>1.800499</td>\n",
              "      <td>0.791461</td>\n",
              "      <td>0.247676</td>\n",
              "      <td>-1.514654</td>\n",
              "      <td>0.207643</td>\n",
              "      <td>0.624501</td>\n",
              "      <td>0.066084</td>\n",
              "      <td>0.717293</td>\n",
              "      <td>-0.165946</td>\n",
              "      <td>2.345865</td>\n",
              "      <td>-2.890083</td>\n",
              "      <td>1.109969</td>\n",
              "      <td>-0.121359</td>\n",
              "      <td>-2.261857</td>\n",
              "      <td>0.524980</td>\n",
              "      <td>0.247998</td>\n",
              "      <td>0.771679</td>\n",
              "      <td>0.909412</td>\n",
              "      <td>-0.689281</td>\n",
              "      <td>-0.327642</td>\n",
              "      <td>-0.139097</td>\n",
              "      <td>-0.055353</td>\n",
              "      <td>-0.059752</td>\n",
              "      <td>378.66</td>\n",
              "      <td>0</td>\n",
              "    </tr>\n",
              "    <tr>\n",
              "      <th>3</th>\n",
              "      <td>1.0</td>\n",
              "      <td>-0.966272</td>\n",
              "      <td>-0.185226</td>\n",
              "      <td>1.792993</td>\n",
              "      <td>-0.863291</td>\n",
              "      <td>-0.010309</td>\n",
              "      <td>1.247203</td>\n",
              "      <td>0.237609</td>\n",
              "      <td>0.377436</td>\n",
              "      <td>-1.387024</td>\n",
              "      <td>-0.054952</td>\n",
              "      <td>-0.226487</td>\n",
              "      <td>0.178228</td>\n",
              "      <td>0.507757</td>\n",
              "      <td>-0.287924</td>\n",
              "      <td>-0.631418</td>\n",
              "      <td>-1.059647</td>\n",
              "      <td>-0.684093</td>\n",
              "      <td>1.965775</td>\n",
              "      <td>-1.232622</td>\n",
              "      <td>-0.208038</td>\n",
              "      <td>-0.108300</td>\n",
              "      <td>0.005274</td>\n",
              "      <td>-0.190321</td>\n",
              "      <td>-1.175575</td>\n",
              "      <td>0.647376</td>\n",
              "      <td>-0.221929</td>\n",
              "      <td>0.062723</td>\n",
              "      <td>0.061458</td>\n",
              "      <td>123.50</td>\n",
              "      <td>0</td>\n",
              "    </tr>\n",
              "    <tr>\n",
              "      <th>4</th>\n",
              "      <td>2.0</td>\n",
              "      <td>-1.158233</td>\n",
              "      <td>0.877737</td>\n",
              "      <td>1.548718</td>\n",
              "      <td>0.403034</td>\n",
              "      <td>-0.407193</td>\n",
              "      <td>0.095921</td>\n",
              "      <td>0.592941</td>\n",
              "      <td>-0.270533</td>\n",
              "      <td>0.817739</td>\n",
              "      <td>0.753074</td>\n",
              "      <td>-0.822843</td>\n",
              "      <td>0.538196</td>\n",
              "      <td>1.345852</td>\n",
              "      <td>-1.119670</td>\n",
              "      <td>0.175121</td>\n",
              "      <td>-0.451449</td>\n",
              "      <td>-0.237033</td>\n",
              "      <td>-0.038195</td>\n",
              "      <td>0.803487</td>\n",
              "      <td>0.408542</td>\n",
              "      <td>-0.009431</td>\n",
              "      <td>0.798278</td>\n",
              "      <td>-0.137458</td>\n",
              "      <td>0.141267</td>\n",
              "      <td>-0.206010</td>\n",
              "      <td>0.502292</td>\n",
              "      <td>0.219422</td>\n",
              "      <td>0.215153</td>\n",
              "      <td>69.99</td>\n",
              "      <td>0</td>\n",
              "    </tr>\n",
              "  </tbody>\n",
              "</table>\n",
              "</div>"
            ],
            "text/plain": [
              "   Time        V1        V2        V3  ...       V27       V28  Amount  Class\n",
              "0   0.0 -1.359807 -0.072781  2.536347  ...  0.133558 -0.021053  149.62      0\n",
              "1   0.0  1.191857  0.266151  0.166480  ... -0.008983  0.014724    2.69      0\n",
              "2   1.0 -1.358354 -1.340163  1.773209  ... -0.055353 -0.059752  378.66      0\n",
              "3   1.0 -0.966272 -0.185226  1.792993  ...  0.062723  0.061458  123.50      0\n",
              "4   2.0 -1.158233  0.877737  1.548718  ...  0.219422  0.215153   69.99      0\n",
              "\n",
              "[5 rows x 31 columns]"
            ]
          },
          "metadata": {
            "tags": []
          },
          "execution_count": 120
        }
      ]
    },
    {
      "cell_type": "code",
      "metadata": {
        "id": "iRylVEVL4E98",
        "colab_type": "code",
        "outputId": "7a16209e-ab4b-4877-acd1-30479495c91a",
        "colab": {
          "base_uri": "https://localhost:8080/",
          "height": 650
        }
      },
      "source": [
        "data.info()"
      ],
      "execution_count": 121,
      "outputs": [
        {
          "output_type": "stream",
          "text": [
            "<class 'pandas.core.frame.DataFrame'>\n",
            "RangeIndex: 284807 entries, 0 to 284806\n",
            "Data columns (total 31 columns):\n",
            " #   Column  Non-Null Count   Dtype  \n",
            "---  ------  --------------   -----  \n",
            " 0   Time    284807 non-null  float64\n",
            " 1   V1      284807 non-null  float64\n",
            " 2   V2      284807 non-null  float64\n",
            " 3   V3      284807 non-null  float64\n",
            " 4   V4      284807 non-null  float64\n",
            " 5   V5      284807 non-null  float64\n",
            " 6   V6      284807 non-null  float64\n",
            " 7   V7      284807 non-null  float64\n",
            " 8   V8      284807 non-null  float64\n",
            " 9   V9      284807 non-null  float64\n",
            " 10  V10     284807 non-null  float64\n",
            " 11  V11     284807 non-null  float64\n",
            " 12  V12     284807 non-null  float64\n",
            " 13  V13     284807 non-null  float64\n",
            " 14  V14     284807 non-null  float64\n",
            " 15  V15     284807 non-null  float64\n",
            " 16  V16     284807 non-null  float64\n",
            " 17  V17     284807 non-null  float64\n",
            " 18  V18     284807 non-null  float64\n",
            " 19  V19     284807 non-null  float64\n",
            " 20  V20     284807 non-null  float64\n",
            " 21  V21     284807 non-null  float64\n",
            " 22  V22     284807 non-null  float64\n",
            " 23  V23     284807 non-null  float64\n",
            " 24  V24     284807 non-null  float64\n",
            " 25  V25     284807 non-null  float64\n",
            " 26  V26     284807 non-null  float64\n",
            " 27  V27     284807 non-null  float64\n",
            " 28  V28     284807 non-null  float64\n",
            " 29  Amount  284807 non-null  float64\n",
            " 30  Class   284807 non-null  int64  \n",
            "dtypes: float64(30), int64(1)\n",
            "memory usage: 67.4 MB\n"
          ],
          "name": "stdout"
        }
      ]
    },
    {
      "cell_type": "code",
      "metadata": {
        "id": "3KMCSeUiMB9D",
        "colab_type": "code",
        "outputId": "81407217-33f4-4faf-b917-08b4aeb3f650",
        "colab": {
          "base_uri": "https://localhost:8080/",
          "height": 67
        }
      },
      "source": [
        "print(data.Class.value_counts())"
      ],
      "execution_count": 122,
      "outputs": [
        {
          "output_type": "stream",
          "text": [
            "0    284315\n",
            "1       492\n",
            "Name: Class, dtype: int64\n"
          ],
          "name": "stdout"
        }
      ]
    },
    {
      "cell_type": "code",
      "metadata": {
        "id": "w_4BRxeE4E9_",
        "colab_type": "code",
        "outputId": "6a59da6c-d7b2-42ee-a231-2838e26aa673",
        "colab": {
          "base_uri": "https://localhost:8080/",
          "height": 50
        }
      },
      "source": [
        "#Separamos las caracteristicas independientes de las dependientes\n",
        "columns = data.columns.tolist()\n",
        "#filtramos la columna para remover e dato no deseado\n",
        "columns = [c for c in columns if c not in [\"Class\"]]\n",
        "# almacenamos la variable que estamoos prediciendo \n",
        "target = \"Class\"\n",
        "# Definimos un estado aleatorio\n",
        "state = np.random.RandomState(42)\n",
        "X = data[columns]\n",
        "Y = data[target]\n",
        "# Se imprime X & Y\n",
        "print(X.shape)\n",
        "print(Y.shape)"
      ],
      "execution_count": 123,
      "outputs": [
        {
          "output_type": "stream",
          "text": [
            "(284807, 30)\n",
            "(284807,)\n"
          ],
          "name": "stdout"
        }
      ]
    },
    {
      "cell_type": "code",
      "metadata": {
        "id": "hAeyfBI-JD1O",
        "colab_type": "code",
        "colab": {}
      },
      "source": [
        "def plot_roc_auc(fpr, tpr):\n",
        "  plt.figure(figsize=[12,6])\n",
        "  plt.grid(color='k', linestyle='--', linewidth=1)\n",
        "  plt.plot(fpr, tpr, color='orange', label='ROC')\n",
        "  plt.plot([0, 1], [0, 1], color='darkblue', linestyle='--')\n",
        "  plt.xlabel('Razon de falsos posivos')\n",
        "  plt.ylabel('Razon de verdaderos positivos')\n",
        "  plt.title('Receiver operating characterics(ROC) curve')\n",
        "  plt.legend()\n",
        "  plt.show()"
      ],
      "execution_count": 0,
      "outputs": []
    },
    {
      "cell_type": "code",
      "metadata": {
        "id": "Ha9lkTQvQTeJ",
        "colab_type": "code",
        "outputId": "736bd12c-0943-4e70-ec1c-d637318d472e",
        "colab": {
          "base_uri": "https://localhost:8080/",
          "height": 296
        }
      },
      "source": [
        "\n",
        "# def linear_prediction(t, x):\n",
        "#     t0,t1 = t\n",
        "#     return t0 + t1*x\n",
        "\n",
        "def plot_model(t ):#prediction\n",
        "    xr = np.linspace(np.min(data.Time), np.max(data.Time), 100)\n",
        "    plt.figure(figsize=[25,4])\n",
        "    plt.scatter(data.Time, data.Class, s=40, alpha=.2, color=\"blue\", label=\"\")\n",
        "    # plt.plot(xr,prediction(t,xr), lw=2, color=\"black\")\n",
        "    plt.title(\"   \".join([r\"$\\theta_%d$=%.2f\"%(i, t[i]) for i in range(len(t))]));\n",
        "\n",
        "    # p = data.iloc[np.random.randint(len(data))]\n",
        "    # pred = prediction(t, p.Time)\n",
        "    # plt.plot([p.Time, p.Class], [p.Class, pred], ls=\"--\", color=\"gray\", label=u\"error de predicción\")\n",
        "    # plt.scatter(p.Time, p.Class, s=70, alpha=.5, color=\"red\", label=\"random trilobite\")\n",
        "    # plt.scatter(p.Time, pred, s=70, alpha=1., color=\"black\", label=u\"predicción\")\n",
        "    # plt.legend(loc='center left', bbox_to_anchor=(1, 0.5))\n",
        "\n",
        "    plt.xlabel(data.columns[0])\n",
        "    plt.ylabel(data.columns[30]);\n",
        "    \n",
        "t0 = np.random.random()*5+10\n",
        "t1 = np.random.random()*4-3\n",
        "\n",
        "plot_model([t0,t1])#, linear_prediction"
      ],
      "execution_count": 125,
      "outputs": [
        {
          "output_type": "display_data",
          "data": {
            "image/png": "[encoded data removed]",
            "text/plain": [
              "<Figure size 1800x288 with 1 Axes>"
            ]
          },
          "metadata": {
            "tags": [],
            "needs_background": "light"
          }
        }
      ]
    },
    {
      "cell_type": "markdown",
      "metadata": {
        "id": "R5yuwhaR4E-B",
        "colab_type": "text"
      },
      "source": [
        "## Exploratory Data Analysis"
      ]
    },
    {
      "cell_type": "code",
      "metadata": {
        "id": "5BgiSLDE4E-C",
        "colab_type": "code",
        "outputId": "a39a59b0-9d8d-4712-9f2b-9d5ec9f47bf3",
        "colab": {
          "base_uri": "https://localhost:8080/",
          "height": 312
        }
      },
      "source": [
        "# data.isnull().values.any()\n",
        "# configuración predeterminada de parametros de la grafica.\n",
        "%matplotlib inline\n",
        "count_classes = pd.value_counts(data['Class'], sort = True)\n",
        "count_classes.plot(kind = 'bar', rot=0)\n",
        "plt.title(\"Transaction Class Distribution\")\n",
        "plt.xticks(range(2), LABELS)\n",
        "plt.xlabel(\"Class\")\n",
        "plt.ylabel(\"Frequency\")"
      ],
      "execution_count": 126,
      "outputs": [
        {
          "output_type": "execute_result",
          "data": {
            "text/plain": [
              "Text(0, 0.5, 'Frequency')"
            ]
          },
          "metadata": {
            "tags": []
          },
          "execution_count": 126
        },
        {
          "output_type": "display_data",
          "data": {
            "image/png": "[encoded data removed]",
            "text/plain": [
              "<Figure size 432x288 with 1 Axes>"
            ]
          },
          "metadata": {
            "tags": [],
            "needs_background": "light"
          }
        }
      ]
    },
    {
      "cell_type": "code",
      "metadata": {
        "id": "XmRD8c1LDXRN",
        "colab_type": "code",
        "outputId": "e7205b9c-91e4-4da3-885b-bf01f633d9e8",
        "colab": {
          "base_uri": "https://localhost:8080/",
          "height": 33
        }
      },
      "source": [
        "# imprimir porcentaje de clases donde la salida es == 1 osea que es fraude\n",
        "(len(data.loc[data.Class==1])) / (len(data.loc[data.Class == 0])) * 100"
      ],
      "execution_count": 127,
      "outputs": [
        {
          "output_type": "execute_result",
          "data": {
            "text/plain": [
              "0.17304750013189596"
            ]
          },
          "metadata": {
            "tags": []
          },
          "execution_count": 127
        }
      ]
    },
    {
      "cell_type": "markdown",
      "metadata": {
        "id": "XkGAD0V9SVda",
        "colab_type": "text"
      },
      "source": [
        "En el gráfico anterior, podemos ver que tenemos una base de datos muy  desequilibrada: ¡solo el 0.17% de nuestro conjunto de datos pertenece a la clase objetivo!\n",
        "\n",
        "Esto es un problema, porque muchos modelos de aprendizaje automático están diseñados para maximizar la precisión general, que especialmente con clases desequilibradas puede no ser la mejor métrica para usar. La precisión de clasificación se define como el número de predicciones correctas dividido por el total de predicciones multiplicado por 100. Por ejemplo, si simplemente predijiéramos que todas las transacciones no son fraude, obtendríamos un puntaje de precisión de clasificación de más del 99%."
      ]
    },
    {
      "cell_type": "markdown",
      "metadata": {
        "id": "Q-cuhf8LYU8R",
        "colab_type": "text"
      },
      "source": [
        "Create Train and Test Sets"
      ]
    },
    {
      "cell_type": "code",
      "metadata": {
        "id": "vsyw9665YQwR",
        "colab_type": "code",
        "outputId": "89d231a4-efc2-4c92-fe09-0308f9b1c320",
        "colab": {
          "base_uri": "https://localhost:8080/",
          "height": 33
        }
      },
      "source": [
        "X_train, X_test, y_train, y_test = train_test_split(X, Y, test_size=0.25, random_state=27)\n",
        "X_train.shape"
      ],
      "execution_count": 128,
      "outputs": [
        {
          "output_type": "execute_result",
          "data": {
            "text/plain": [
              "(213605, 30)"
            ]
          },
          "metadata": {
            "tags": []
          },
          "execution_count": 128
        }
      ]
    },
    {
      "cell_type": "markdown",
      "metadata": {
        "id": "K7BqA1R8YsD1",
        "colab_type": "text"
      },
      "source": [
        "Baseline Models\n"
      ]
    },
    {
      "cell_type": "code",
      "metadata": {
        "id": "k5tIW5vVYn0t",
        "colab_type": "code",
        "colab": {}
      },
      "source": [
        "# DummyClassifier para predecir solo la clase  0(no fraude)\n",
        "dummy = DummyClassifier(strategy='most_frequent')\n",
        "dummy = dummy.fit(X_train, y_train)\n",
        "dummy_pred = dummy.predict(X_test)"
      ],
      "execution_count": 0,
      "outputs": []
    },
    {
      "cell_type": "code",
      "metadata": {
        "id": "2rQekC4eYuMV",
        "colab_type": "code",
        "outputId": "630b9478-7899-47bb-ab2e-a38233028ef8",
        "colab": {
          "base_uri": "https://localhost:8080/",
          "height": 50
        }
      },
      "source": [
        "# checking unique labels\n",
        "print('Unique predicted labels: ', (np.unique(dummy_pred)))\n",
        "# checking accuracy\n",
        "print('Test score: ', accuracy_score(y_test, dummy_pred))"
      ],
      "execution_count": 130,
      "outputs": [
        {
          "output_type": "stream",
          "text": [
            "Unique predicted labels:  [0]\n",
            "Test score:  0.9981461194910255\n"
          ],
          "name": "stdout"
        }
      ]
    },
    {
      "cell_type": "markdown",
      "metadata": {
        "id": "rAy4mcyLZlLY",
        "colab_type": "text"
      },
      "source": [
        "\n",
        "¡Predijimos que nuestro puntaje de precisión para clasificar todas las transacciones como no fraude es del 99.8%!\n",
        "\n",
        "Como el Dummy Classifier predice solo la Clase 0, claramente no es una buena opción para nuestro objetivo de clasificar correctamente las transacciones fraudulentas.\n",
        "\n",
        "Veamos cómo se realiza la regresión logística en este conjunto de datos."
      ]
    },
    {
      "cell_type": "code",
      "metadata": {
        "id": "TB7WLjU0d3Lb",
        "colab_type": "code",
        "outputId": "bbb6ceb2-4d1c-4629-c2b7-185b63cb5c88",
        "colab": {
          "base_uri": "https://localhost:8080/",
          "height": 33
        }
      },
      "source": [
        "lr = LogisticRegression(solver='liblinear')\n",
        "lr = lr.fit(X_train, y_train)\n",
        "lr_pred = lr.predict(X_test)\n",
        "\n",
        "auc = roc_auc_score(y_test, lr_pred)#funcion para encontrar el auc\n",
        "print('AUC: %.2f' % auc)"
      ],
      "execution_count": 131,
      "outputs": [
        {
          "output_type": "stream",
          "text": [
            "AUC: 0.80\n"
          ],
          "name": "stdout"
        }
      ]
    },
    {
      "cell_type": "code",
      "metadata": {
        "id": "0D1-OdFmLs8e",
        "colab_type": "code",
        "outputId": "1a6e6d93-b62d-4444-dd56-c4bfe54ab7f0",
        "colab": {
          "base_uri": "https://localhost:8080/",
          "height": 404
        }
      },
      "source": [
        "frp, tpr, threshold = roc_curve(y_test, lr_pred)\n",
        "plot_roc_auc(frp, tpr)"
      ],
      "execution_count": 132,
      "outputs": [
        {
          "output_type": "display_data",
          "data": {
            "image/png": "[encoded data removed]",
            "text/plain": [
              "<Figure size 864x432 with 1 Axes>"
            ]
          },
          "metadata": {
            "tags": [],
            "needs_background": "light"
          }
        }
      ]
    },
    {
      "cell_type": "code",
      "metadata": {
        "id": "OP1RCdtCd5ul",
        "colab_type": "code",
        "outputId": "102cac9d-5bc1-4c35-854e-54acbeaacc11",
        "colab": {
          "base_uri": "https://localhost:8080/",
          "height": 33
        }
      },
      "source": [
        "# verificamos Precisión\n",
        "accuracy_score(y_test, lr_pred)"
      ],
      "execution_count": 133,
      "outputs": [
        {
          "output_type": "execute_result",
          "data": {
            "text/plain": [
              "0.9991011488441336"
            ]
          },
          "metadata": {
            "tags": []
          },
          "execution_count": 133
        }
      ]
    },
    {
      "cell_type": "code",
      "metadata": {
        "id": "xNMPJ-qYnuny",
        "colab_type": "code",
        "outputId": "ab5c165a-da8d-47c7-f882-9a25a20a7a9c",
        "colab": {
          "base_uri": "https://localhost:8080/",
          "height": 67
        }
      },
      "source": [
        "# Verificamos valores unico\n",
        "predictions = pd.DataFrame(lr_pred)\n",
        "predictions[0].value_counts()"
      ],
      "execution_count": 134,
      "outputs": [
        {
          "output_type": "execute_result",
          "data": {
            "text/plain": [
              "0    71114\n",
              "1       88\n",
              "Name: 0, dtype: int64"
            ]
          },
          "metadata": {
            "tags": []
          },
          "execution_count": 134
        }
      ]
    },
    {
      "cell_type": "markdown",
      "metadata": {
        "id": "y_7sARYEu6FX",
        "colab_type": "text"
      },
      "source": [
        "¡La regresión logística superó al clasificador ficticio! Podemos ver que predijo 88 instancias de la clase 1, por lo que definitivamente es una mejora. ¿Pero podemos hacerlo mejor?\n",
        "\n",
        "Veamos si podemos aplicar algunas técnicas para tratar el desequilibrio de clase para mejorar estos resultados.\n"
      ]
    },
    {
      "cell_type": "markdown",
      "metadata": {
        "id": "bVVGmcb3xamb",
        "colab_type": "text"
      },
      "source": [
        "##Cambiar la métrica de rendimiento"
      ]
    },
    {
      "cell_type": "markdown",
      "metadata": {
        "id": "-ZYyNnkMxewJ",
        "colab_type": "text"
      },
      "source": [
        "La precisión no es la mejor métrica para usar al evaluar conjuntos de datos desequilibrados, ya que puede ser engañoso. Las métricas que pueden proporcionar una mejor información incluyen:\n",
        "\n",
        "\n",
        "*   **Matriz de confusión:**es una tabla con dos filas y dos columnas que informa el número de falsos positivos , falsos negativos , verdaderos positivos y verdaderos negativos. Esto permite un análisis más detallado que solo la proporción de clasificaciones correctas (precisión). La precisión producirá resultados engañosos si el conjunto de datos no está equilibrado.\n",
        "*   **Precisión:** el número de verdaderos positivos dividido por todas las predicciones positivas. La precisión también se llama valor predictivo positivo. Es una medida de la exactitud de un clasificador. La baja precisión indica un alto número de falsos positivos.\n",
        "*   **Recordar (Sensitivity):** el número de verdaderos positivos dividido el número de valores positivos en los datos de la prueba. La recuperación también se llama Sensibilidad o la tasa positiva verdadera(TPR). Es una medida de la integridad de un clasificador. La baja recuperación indica un alto número de falsos negativos.\n",
        "*   **F1: Puntuación:** el promedio ponderado de precisión y recuperación.\n",
        "\n",
        "Dado que nuestro objetivo principal con el conjunto de datos es priorizar la clasificación precisa de los casos de fraude, la metrica  de recardar( sensivilidad) puede considerarse nuestra principal métrica para evaluar los resultados.\n"
      ]
    },
    {
      "cell_type": "code",
      "metadata": {
        "id": "PD9XPDctqXhv",
        "colab_type": "code",
        "outputId": "e712d0b2-459c-4f51-95ee-df182b305a67",
        "colab": {
          "base_uri": "https://localhost:8080/",
          "height": 0
        }
      },
      "source": [
        "# f1 score\n",
        "f1_score(y_test, lr_pred)"
      ],
      "execution_count": 135,
      "outputs": [
        {
          "output_type": "execute_result",
          "data": {
            "text/plain": [
              "0.7090909090909092"
            ]
          },
          "metadata": {
            "tags": []
          },
          "execution_count": 135
        }
      ]
    },
    {
      "cell_type": "code",
      "metadata": {
        "id": "BEhoNfBrw8cl",
        "colab_type": "code",
        "outputId": "5f1ccc3e-a945-4f10-d4ed-3f618905cb74",
        "colab": {
          "base_uri": "https://localhost:8080/",
          "height": 0
        }
      },
      "source": [
        "# Plot non-normalized confusion matrix\n",
        "titles_options = [(\"Confusion matrix, without normalization\", None),\n",
        "                  (\"Normalized confusion matrix\", 'true')]\n",
        "for title, normalize in titles_options:\n",
        "    disp = plot_confusion_matrix(lr, X_test, y_test,\n",
        "                                 display_labels=['0','1'],\n",
        "                                 cmap=plt.cm.Blues,\n",
        "                                 normalize=normalize)\n",
        "    disp.ax_.set_title(title)\n",
        "\n",
        "    print(title)\n",
        "    print(disp.confusion_matrix)\n",
        "\n",
        "plt.show()"
      ],
      "execution_count": 136,
      "outputs": [
        {
          "output_type": "stream",
          "text": [
            "Confusion matrix, without normalization\n",
            "[[71060    10]\n",
            " [   54    78]]\n",
            "Normalized confusion matrix\n",
            "[[9.99859294e-01 1.40706346e-04]\n",
            " [4.09090909e-01 5.90909091e-01]]\n"
          ],
          "name": "stdout"
        },
        {
          "output_type": "display_data",
          "data": {
            "image/png": "[encoded data removed]",
            "text/plain": [
              "<Figure size 432x288 with 2 Axes>"
            ]
          },
          "metadata": {
            "tags": [],
            "needs_background": "light"
          }
        },
        {
          "output_type": "display_data",
          "data": {
            "image/png": "[encoded data removed]",
            "text/plain": [
              "<Figure size 432x288 with 2 Axes>"
            ]
          },
          "metadata": {
            "tags": [],
            "needs_background": "light"
          }
        }
      ]
    },
    {
      "cell_type": "code",
      "metadata": {
        "id": "hya3T2nKMqvH",
        "colab_type": "code",
        "outputId": "751a8bb2-aad5-474e-b2ed-cab7a509696f",
        "colab": {
          "base_uri": "https://localhost:8080/",
          "height": 0
        }
      },
      "source": [
        "recall_score(y_test, lr_pred)"
      ],
      "execution_count": 137,
      "outputs": [
        {
          "output_type": "execute_result",
          "data": {
            "text/plain": [
              "0.5909090909090909"
            ]
          },
          "metadata": {
            "tags": []
          },
          "execution_count": 137
        }
      ]
    },
    {
      "cell_type": "markdown",
      "metadata": {
        "id": "VG0UkpTAOJtQ",
        "colab_type": "text"
      },
      "source": [
        "Tenemos una puntuación de precisión muy alta de 0.999 pero una puntuación de F1 de solo 0.752. Y a partir de la matriz de confusión, podemos ver que estamos clasificando erróneamente varias observaciones que conducen a una puntuación de recuerdo de solo 0.64."
      ]
    },
    {
      "cell_type": "markdown",
      "metadata": {
        "id": "gVusVx02OOnM",
        "colab_type": "text"
      },
      "source": [
        "#Change the algorithm"
      ]
    },
    {
      "cell_type": "markdown",
      "metadata": {
        "id": "kFBd5WMVOfWX",
        "colab_type": "text"
      },
      "source": [
        "Si bien en cada problema de aprendizaje automático, es una buena regla general probar una variedad de algoritmos, puede ser especialmente beneficioso con conjuntos de datos desequilibrados. Los árboles de decisión con frecuencia funcionan bien en datos desequilibrados. Trabajan aprendiendo una jerarquía de preguntas if / else. Esto puede obligar a que se aborden ambas clases"
      ]
    },
    {
      "cell_type": "code",
      "metadata": {
        "id": "mg2UUVwmRFyn",
        "colab_type": "code",
        "colab": {}
      },
      "source": [
        "from sklearn.ensemble import RandomForestClassifier"
      ],
      "execution_count": 0,
      "outputs": []
    },
    {
      "cell_type": "code",
      "metadata": {
        "id": "WOPvEnp4RDIh",
        "colab_type": "code",
        "outputId": "9420d2c6-d3a8-4c70-8fc2-110826b23847",
        "colab": {
          "base_uri": "https://localhost:8080/",
          "height": 0
        }
      },
      "source": [
        "# entrenamos el modelo  \n",
        "rfc = RandomForestClassifier(n_estimators=10)\n",
        "rfc = rfc.fit(X_train, y_train)\n",
        "\n",
        "# prediciones en el conjunto de prueba \n",
        "rfc_pred = rfc.predict(X_test)\n",
        "\n",
        "auc = roc_auc_score(y_test, rfc_pred)#funcion para encontrar el auc\n",
        "print('AUC: %.2f' % auc)"
      ],
      "execution_count": 139,
      "outputs": [
        {
          "output_type": "stream",
          "text": [
            "AUC: 0.89\n"
          ],
          "name": "stdout"
        }
      ]
    },
    {
      "cell_type": "code",
      "metadata": {
        "id": "LmiFnjiNPRs7",
        "colab_type": "code",
        "outputId": "85057de9-2ab1-4e7c-c5dd-aaf318a98544",
        "colab": {
          "base_uri": "https://localhost:8080/",
          "height": 0
        }
      },
      "source": [
        "frp, tpr, threshold = roc_curve(y_test, rfc_pred)\n",
        "plot_roc_auc(frp, tpr)"
      ],
      "execution_count": 140,
      "outputs": [
        {
          "output_type": "display_data",
          "data": {
            "image/png": "[encoded data removed]",
            "text/plain": [
              "<Figure size 864x432 with 1 Axes>"
            ]
          },
          "metadata": {
            "tags": [],
            "needs_background": "light"
          }
        }
      ]
    },
    {
      "cell_type": "code",
      "metadata": {
        "id": "9Z-PwgsWOChy",
        "colab_type": "code",
        "outputId": "68a0ea2d-ae3e-4ff3-f76b-421af36f0431",
        "colab": {
          "base_uri": "https://localhost:8080/",
          "height": 0
        }
      },
      "source": [
        "# Verificamos la exactitud\n",
        "accuracy_score(y_test, rfc_pred)"
      ],
      "execution_count": 141,
      "outputs": [
        {
          "output_type": "execute_result",
          "data": {
            "text/plain": [
              "0.999522485323446"
            ]
          },
          "metadata": {
            "tags": []
          },
          "execution_count": 141
        }
      ]
    },
    {
      "cell_type": "code",
      "metadata": {
        "id": "LGjBcUwCR2B9",
        "colab_type": "code",
        "outputId": "732acaff-a8d3-47dc-d23a-4dc227171f78",
        "colab": {
          "base_uri": "https://localhost:8080/",
          "height": 0
        }
      },
      "source": [
        "# f1 score\n",
        "f1_score(y_test, rfc_pred)"
      ],
      "execution_count": 142,
      "outputs": [
        {
          "output_type": "execute_result",
          "data": {
            "text/plain": [
              "0.8571428571428572"
            ]
          },
          "metadata": {
            "tags": []
          },
          "execution_count": 142
        }
      ]
    },
    {
      "cell_type": "code",
      "metadata": {
        "id": "YXP4V9F2vWs3",
        "colab_type": "code",
        "colab": {}
      },
      "source": [
        ""
      ],
      "execution_count": 0,
      "outputs": []
    },
    {
      "cell_type": "code",
      "metadata": {
        "id": "nSL5Xqz8vmHZ",
        "colab_type": "code",
        "outputId": "88cb6d77-9e22-456b-db1c-bbb449a68c89",
        "colab": {
          "base_uri": "https://localhost:8080/",
          "height": 0
        }
      },
      "source": [
        "# Plot non-normalized confusion matrix\n",
        "titles_options = [(\"Confusion matrix, without normalization\", None),\n",
        "                  (\"Normalized confusion matrix\", 'true')]\n",
        "for title, normalize in titles_options:\n",
        "    disp = plot_confusion_matrix(rfc, X_test, y_test,\n",
        "                                 display_labels=['0','1'],\n",
        "                                 cmap=plt.cm.Blues,\n",
        "                                 normalize=normalize)\n",
        "    disp.ax_.set_title(title)\n",
        "\n",
        "    print(title)\n",
        "    print(disp.confusion_matrix)\n",
        "\n",
        "plt.show()"
      ],
      "execution_count": 143,
      "outputs": [
        {
          "output_type": "stream",
          "text": [
            "Confusion matrix, without normalization\n",
            "[[71066     4]\n",
            " [   30   102]]\n",
            "Normalized confusion matrix\n",
            "[[9.99943717e-01 5.62825383e-05]\n",
            " [2.27272727e-01 7.72727273e-01]]\n"
          ],
          "name": "stdout"
        },
        {
          "output_type": "display_data",
          "data": {
            "image/png": "[encoded data removed]",
            "text/plain": [
              "<Figure size 432x288 with 2 Axes>"
            ]
          },
          "metadata": {
            "tags": [],
            "needs_background": "light"
          }
        },
        {
          "output_type": "display_data",
          "data": {
            "image/png": "[encoded data removed]",
            "text/plain": [
              "<Figure size 432x288 with 2 Axes>"
            ]
          },
          "metadata": {
            "tags": [],
            "needs_background": "light"
          }
        }
      ]
    },
    {
      "cell_type": "code",
      "metadata": {
        "id": "lBmB3xMDUHJb",
        "colab_type": "code",
        "outputId": "60cbdfcb-0f0c-4c55-8487-78bd3bcd0249",
        "colab": {
          "base_uri": "https://localhost:8080/",
          "height": 0
        }
      },
      "source": [
        "# recall score\n",
        "recall_score(y_test, rfc_pred)"
      ],
      "execution_count": 144,
      "outputs": [
        {
          "output_type": "execute_result",
          "data": {
            "text/plain": [
              "0.7727272727272727"
            ]
          },
          "metadata": {
            "tags": []
          },
          "execution_count": 144
        }
      ]
    },
    {
      "cell_type": "markdown",
      "metadata": {
        "id": "0-9SExZEYBNl",
        "colab_type": "text"
      },
      "source": [
        "#Tecnicas de remuestreo\n",
        "\n"
      ]
    },
    {
      "cell_type": "markdown",
      "metadata": {
        "id": "wiDaR5FaYFZl",
        "colab_type": "text"
      },
      "source": [
        "#Sobremuestreo de minorias \n",
        "El sobremuestreo se puede definir como agregar más copias de la clase minoritaria. El sobremuestreo puede ser una buena opción cuando no tienes muchos datos para trabajar. Una desventaja a tener en cuenta al submuestrear es que puede causar un sobreajuste y una generalización deficiente en su conjunto de prueba.\n",
        "\n",
        "Utilizaremos el módulo de remuestreo de Scikit-Learn para replicar aleatoriamente muestras de la clase minoritaria"
      ]
    },
    {
      "cell_type": "markdown",
      "metadata": {
        "id": "vLoTcDeAZsrC",
        "colab_type": "text"
      },
      "source": [
        "**Nota:** para evitar que el modelo memorice los datos y cause sobreajuste, debemos dividir los datos, en datos de entrenamiento y datos de prueba antes de realizar el sobremuestreo "
      ]
    },
    {
      "cell_type": "code",
      "metadata": {
        "id": "Vj13WE-MX725",
        "colab_type": "code",
        "colab": {}
      },
      "source": [
        "from sklearn.utils import resample"
      ],
      "execution_count": 0,
      "outputs": []
    },
    {
      "cell_type": "code",
      "metadata": {
        "id": "tEWm-p8NbeeJ",
        "colab_type": "code",
        "outputId": "0d73ed97-fe48-4624-d97c-a694c840018a",
        "colab": {
          "base_uri": "https://localhost:8080/",
          "height": 0
        }
      },
      "source": [
        "# concatenar nuestros datos de entrenamiento nuevamente\n",
        "X = pd.concat([X_train, y_train], axis=1)\n",
        "X.head()"
      ],
      "execution_count": 146,
      "outputs": [
        {
          "output_type": "execute_result",
          "data": {
            "text/html": [
              "<div>\n",
              "<style scoped>\n",
              "    .dataframe tbody tr th:only-of-type {\n",
              "        vertical-align: middle;\n",
              "    }\n",
              "\n",
              "    .dataframe tbody tr th {\n",
              "        vertical-align: top;\n",
              "    }\n",
              "\n",
              "    .dataframe thead th {\n",
              "        text-align: right;\n",
              "    }\n",
              "</style>\n",
              "<table border=\"1\" class=\"dataframe\">\n",
              "  <thead>\n",
              "    <tr style=\"text-align: right;\">\n",
              "      <th></th>\n",
              "      <th>Time</th>\n",
              "      <th>V1</th>\n",
              "      <th>V2</th>\n",
              "      <th>V3</th>\n",
              "      <th>V4</th>\n",
              "      <th>V5</th>\n",
              "      <th>V6</th>\n",
              "      <th>V7</th>\n",
              "      <th>V8</th>\n",
              "      <th>V9</th>\n",
              "      <th>V10</th>\n",
              "      <th>V11</th>\n",
              "      <th>V12</th>\n",
              "      <th>V13</th>\n",
              "      <th>V14</th>\n",
              "      <th>V15</th>\n",
              "      <th>V16</th>\n",
              "      <th>V17</th>\n",
              "      <th>V18</th>\n",
              "      <th>V19</th>\n",
              "      <th>V20</th>\n",
              "      <th>V21</th>\n",
              "      <th>V22</th>\n",
              "      <th>V23</th>\n",
              "      <th>V24</th>\n",
              "      <th>V25</th>\n",
              "      <th>V26</th>\n",
              "      <th>V27</th>\n",
              "      <th>V28</th>\n",
              "      <th>Amount</th>\n",
              "      <th>Class</th>\n",
              "    </tr>\n",
              "  </thead>\n",
              "  <tbody>\n",
              "    <tr>\n",
              "      <th>264873</th>\n",
              "      <td>161634.0</td>\n",
              "      <td>-0.395578</td>\n",
              "      <td>1.489129</td>\n",
              "      <td>-0.833442</td>\n",
              "      <td>-0.224271</td>\n",
              "      <td>0.369444</td>\n",
              "      <td>-1.453886</td>\n",
              "      <td>0.796593</td>\n",
              "      <td>-0.060403</td>\n",
              "      <td>0.338270</td>\n",
              "      <td>-0.343885</td>\n",
              "      <td>-0.647990</td>\n",
              "      <td>-0.509490</td>\n",
              "      <td>-0.633729</td>\n",
              "      <td>-0.712156</td>\n",
              "      <td>0.765701</td>\n",
              "      <td>0.053830</td>\n",
              "      <td>0.526211</td>\n",
              "      <td>0.750505</td>\n",
              "      <td>-0.225921</td>\n",
              "      <td>0.054132</td>\n",
              "      <td>0.231624</td>\n",
              "      <td>0.955194</td>\n",
              "      <td>-0.172092</td>\n",
              "      <td>-0.041050</td>\n",
              "      <td>-0.313444</td>\n",
              "      <td>-0.174301</td>\n",
              "      <td>0.064657</td>\n",
              "      <td>-0.036960</td>\n",
              "      <td>2.74</td>\n",
              "      <td>0</td>\n",
              "    </tr>\n",
              "    <tr>\n",
              "      <th>163821</th>\n",
              "      <td>116237.0</td>\n",
              "      <td>1.950487</td>\n",
              "      <td>0.002312</td>\n",
              "      <td>-1.761814</td>\n",
              "      <td>1.232470</td>\n",
              "      <td>0.523175</td>\n",
              "      <td>-0.650657</td>\n",
              "      <td>0.504231</td>\n",
              "      <td>-0.200857</td>\n",
              "      <td>0.116805</td>\n",
              "      <td>0.443750</td>\n",
              "      <td>0.257633</td>\n",
              "      <td>0.358875</td>\n",
              "      <td>-1.313311</td>\n",
              "      <td>0.922108</td>\n",
              "      <td>-1.078538</td>\n",
              "      <td>-0.395038</td>\n",
              "      <td>-0.437151</td>\n",
              "      <td>0.074223</td>\n",
              "      <td>0.187086</td>\n",
              "      <td>-0.285207</td>\n",
              "      <td>0.086306</td>\n",
              "      <td>0.326297</td>\n",
              "      <td>-0.068839</td>\n",
              "      <td>-0.416589</td>\n",
              "      <td>0.426044</td>\n",
              "      <td>-0.486299</td>\n",
              "      <td>-0.031266</td>\n",
              "      <td>-0.072543</td>\n",
              "      <td>38.44</td>\n",
              "      <td>0</td>\n",
              "    </tr>\n",
              "    <tr>\n",
              "      <th>72083</th>\n",
              "      <td>54557.0</td>\n",
              "      <td>1.105167</td>\n",
              "      <td>-0.166253</td>\n",
              "      <td>0.569520</td>\n",
              "      <td>0.681043</td>\n",
              "      <td>-0.259189</td>\n",
              "      <td>0.642792</td>\n",
              "      <td>-0.437034</td>\n",
              "      <td>0.356746</td>\n",
              "      <td>0.441417</td>\n",
              "      <td>-0.113006</td>\n",
              "      <td>1.263824</td>\n",
              "      <td>1.017046</td>\n",
              "      <td>-0.791270</td>\n",
              "      <td>0.181033</td>\n",
              "      <td>-0.530067</td>\n",
              "      <td>-0.733662</td>\n",
              "      <td>0.436861</td>\n",
              "      <td>-0.903134</td>\n",
              "      <td>-0.242185</td>\n",
              "      <td>-0.226981</td>\n",
              "      <td>0.009073</td>\n",
              "      <td>0.293023</td>\n",
              "      <td>-0.028688</td>\n",
              "      <td>-0.242206</td>\n",
              "      <td>0.389813</td>\n",
              "      <td>0.482852</td>\n",
              "      <td>0.010705</td>\n",
              "      <td>-0.008399</td>\n",
              "      <td>1.00</td>\n",
              "      <td>0</td>\n",
              "    </tr>\n",
              "    <tr>\n",
              "      <th>196949</th>\n",
              "      <td>131771.0</td>\n",
              "      <td>1.805238</td>\n",
              "      <td>0.961264</td>\n",
              "      <td>-1.717212</td>\n",
              "      <td>4.094625</td>\n",
              "      <td>0.938666</td>\n",
              "      <td>-0.227785</td>\n",
              "      <td>0.152911</td>\n",
              "      <td>0.066753</td>\n",
              "      <td>-1.073784</td>\n",
              "      <td>0.334537</td>\n",
              "      <td>1.016183</td>\n",
              "      <td>-0.510443</td>\n",
              "      <td>-0.748733</td>\n",
              "      <td>-2.708662</td>\n",
              "      <td>-1.014069</td>\n",
              "      <td>2.220866</td>\n",
              "      <td>1.285249</td>\n",
              "      <td>1.619087</td>\n",
              "      <td>-1.602343</td>\n",
              "      <td>-0.150818</td>\n",
              "      <td>-0.137875</td>\n",
              "      <td>-0.450959</td>\n",
              "      <td>0.098530</td>\n",
              "      <td>-0.662272</td>\n",
              "      <td>-0.150154</td>\n",
              "      <td>-0.098852</td>\n",
              "      <td>-0.000030</td>\n",
              "      <td>0.017622</td>\n",
              "      <td>37.89</td>\n",
              "      <td>0</td>\n",
              "    </tr>\n",
              "    <tr>\n",
              "      <th>126213</th>\n",
              "      <td>77959.0</td>\n",
              "      <td>0.835421</td>\n",
              "      <td>-1.191847</td>\n",
              "      <td>0.578455</td>\n",
              "      <td>0.586101</td>\n",
              "      <td>-1.236663</td>\n",
              "      <td>0.194617</td>\n",
              "      <td>-0.532404</td>\n",
              "      <td>0.061561</td>\n",
              "      <td>-0.734344</td>\n",
              "      <td>0.754427</td>\n",
              "      <td>0.513247</td>\n",
              "      <td>0.704388</td>\n",
              "      <td>0.472193</td>\n",
              "      <td>-0.072043</td>\n",
              "      <td>-0.357247</td>\n",
              "      <td>-1.136932</td>\n",
              "      <td>-0.436168</td>\n",
              "      <td>2.047641</td>\n",
              "      <td>-0.775130</td>\n",
              "      <td>-0.045313</td>\n",
              "      <td>-0.072349</td>\n",
              "      <td>-0.109154</td>\n",
              "      <td>-0.308356</td>\n",
              "      <td>0.011968</td>\n",
              "      <td>0.461350</td>\n",
              "      <td>-0.244810</td>\n",
              "      <td>0.031845</td>\n",
              "      <td>0.060910</td>\n",
              "      <td>237.00</td>\n",
              "      <td>0</td>\n",
              "    </tr>\n",
              "  </tbody>\n",
              "</table>\n",
              "</div>"
            ],
            "text/plain": [
              "            Time        V1        V2  ...       V28  Amount  Class\n",
              "264873  161634.0 -0.395578  1.489129  ... -0.036960    2.74      0\n",
              "163821  116237.0  1.950487  0.002312  ... -0.072543   38.44      0\n",
              "72083    54557.0  1.105167 -0.166253  ... -0.008399    1.00      0\n",
              "196949  131771.0  1.805238  0.961264  ...  0.017622   37.89      0\n",
              "126213   77959.0  0.835421 -1.191847  ...  0.060910  237.00      0\n",
              "\n",
              "[5 rows x 31 columns]"
            ]
          },
          "metadata": {
            "tags": []
          },
          "execution_count": 146
        }
      ]
    },
    {
      "cell_type": "code",
      "metadata": {
        "id": "zvENkWTq4E-H",
        "colab_type": "code",
        "colab": {}
      },
      "source": [
        "# Obtenga el Fraude y el conjunto de datos no fraude\n",
        "fraud = X[X['Class']==1]\n",
        "not_fraud = X[X['Class']==0]"
      ],
      "execution_count": 0,
      "outputs": []
    },
    {
      "cell_type": "code",
      "metadata": {
        "id": "QFzl4Yq74E-J",
        "colab_type": "code",
        "outputId": "f1e3cc06-bde7-41f1-fa33-e837dc3709a7",
        "colab": {
          "base_uri": "https://localhost:8080/",
          "height": 0
        }
      },
      "source": [
        "print(fraud.shape,not_fraud.shape)"
      ],
      "execution_count": 148,
      "outputs": [
        {
          "output_type": "stream",
          "text": [
            "(360, 31) (213245, 31)\n"
          ],
          "name": "stdout"
        }
      ]
    },
    {
      "cell_type": "code",
      "metadata": {
        "id": "P3g8RnS5h9FI",
        "colab_type": "code",
        "colab": {}
      },
      "source": [
        "# muestreamos la minoria\n",
        "fraud_upsampled = resample(fraud, \n",
        "                          replace=True, # remplazamos las muestras\n",
        "                          n_samples=len(not_fraud), # Igualamos el numero en la clase mayoritaria\n",
        "                          random_state=27) # resultados reproducibles"
      ],
      "execution_count": 0,
      "outputs": []
    },
    {
      "cell_type": "code",
      "metadata": {
        "id": "lgYGvyZUiW1T",
        "colab_type": "code",
        "outputId": "2fb90c23-2fa1-4262-dab0-33f08f97ff90",
        "colab": {
          "base_uri": "https://localhost:8080/",
          "height": 0
        }
      },
      "source": [
        "# combina la mayoría y minoría muestreada\n",
        "upsampled = pd.concat([not_fraud, fraud_upsampled])\n",
        "\n",
        "# check new class counts\n",
        "upsampled.Class.value_counts()"
      ],
      "execution_count": 150,
      "outputs": [
        {
          "output_type": "execute_result",
          "data": {
            "text/plain": [
              "1    213245\n",
              "0    213245\n",
              "Name: Class, dtype: int64"
            ]
          },
          "metadata": {
            "tags": []
          },
          "execution_count": 150
        }
      ]
    },
    {
      "cell_type": "code",
      "metadata": {
        "id": "a5PwmmOZjbhZ",
        "colab_type": "code",
        "outputId": "4231419d-cdd3-4c8e-e043-df603244a068",
        "colab": {
          "base_uri": "https://localhost:8080/",
          "height": 0
        }
      },
      "source": [
        "upsampled.head()"
      ],
      "execution_count": 151,
      "outputs": [
        {
          "output_type": "execute_result",
          "data": {
            "text/html": [
              "<div>\n",
              "<style scoped>\n",
              "    .dataframe tbody tr th:only-of-type {\n",
              "        vertical-align: middle;\n",
              "    }\n",
              "\n",
              "    .dataframe tbody tr th {\n",
              "        vertical-align: top;\n",
              "    }\n",
              "\n",
              "    .dataframe thead th {\n",
              "        text-align: right;\n",
              "    }\n",
              "</style>\n",
              "<table border=\"1\" class=\"dataframe\">\n",
              "  <thead>\n",
              "    <tr style=\"text-align: right;\">\n",
              "      <th></th>\n",
              "      <th>Time</th>\n",
              "      <th>V1</th>\n",
              "      <th>V2</th>\n",
              "      <th>V3</th>\n",
              "      <th>V4</th>\n",
              "      <th>V5</th>\n",
              "      <th>V6</th>\n",
              "      <th>V7</th>\n",
              "      <th>V8</th>\n",
              "      <th>V9</th>\n",
              "      <th>V10</th>\n",
              "      <th>V11</th>\n",
              "      <th>V12</th>\n",
              "      <th>V13</th>\n",
              "      <th>V14</th>\n",
              "      <th>V15</th>\n",
              "      <th>V16</th>\n",
              "      <th>V17</th>\n",
              "      <th>V18</th>\n",
              "      <th>V19</th>\n",
              "      <th>V20</th>\n",
              "      <th>V21</th>\n",
              "      <th>V22</th>\n",
              "      <th>V23</th>\n",
              "      <th>V24</th>\n",
              "      <th>V25</th>\n",
              "      <th>V26</th>\n",
              "      <th>V27</th>\n",
              "      <th>V28</th>\n",
              "      <th>Amount</th>\n",
              "      <th>Class</th>\n",
              "    </tr>\n",
              "  </thead>\n",
              "  <tbody>\n",
              "    <tr>\n",
              "      <th>264873</th>\n",
              "      <td>161634.0</td>\n",
              "      <td>-0.395578</td>\n",
              "      <td>1.489129</td>\n",
              "      <td>-0.833442</td>\n",
              "      <td>-0.224271</td>\n",
              "      <td>0.369444</td>\n",
              "      <td>-1.453886</td>\n",
              "      <td>0.796593</td>\n",
              "      <td>-0.060403</td>\n",
              "      <td>0.338270</td>\n",
              "      <td>-0.343885</td>\n",
              "      <td>-0.647990</td>\n",
              "      <td>-0.509490</td>\n",
              "      <td>-0.633729</td>\n",
              "      <td>-0.712156</td>\n",
              "      <td>0.765701</td>\n",
              "      <td>0.053830</td>\n",
              "      <td>0.526211</td>\n",
              "      <td>0.750505</td>\n",
              "      <td>-0.225921</td>\n",
              "      <td>0.054132</td>\n",
              "      <td>0.231624</td>\n",
              "      <td>0.955194</td>\n",
              "      <td>-0.172092</td>\n",
              "      <td>-0.041050</td>\n",
              "      <td>-0.313444</td>\n",
              "      <td>-0.174301</td>\n",
              "      <td>0.064657</td>\n",
              "      <td>-0.036960</td>\n",
              "      <td>2.74</td>\n",
              "      <td>0</td>\n",
              "    </tr>\n",
              "    <tr>\n",
              "      <th>163821</th>\n",
              "      <td>116237.0</td>\n",
              "      <td>1.950487</td>\n",
              "      <td>0.002312</td>\n",
              "      <td>-1.761814</td>\n",
              "      <td>1.232470</td>\n",
              "      <td>0.523175</td>\n",
              "      <td>-0.650657</td>\n",
              "      <td>0.504231</td>\n",
              "      <td>-0.200857</td>\n",
              "      <td>0.116805</td>\n",
              "      <td>0.443750</td>\n",
              "      <td>0.257633</td>\n",
              "      <td>0.358875</td>\n",
              "      <td>-1.313311</td>\n",
              "      <td>0.922108</td>\n",
              "      <td>-1.078538</td>\n",
              "      <td>-0.395038</td>\n",
              "      <td>-0.437151</td>\n",
              "      <td>0.074223</td>\n",
              "      <td>0.187086</td>\n",
              "      <td>-0.285207</td>\n",
              "      <td>0.086306</td>\n",
              "      <td>0.326297</td>\n",
              "      <td>-0.068839</td>\n",
              "      <td>-0.416589</td>\n",
              "      <td>0.426044</td>\n",
              "      <td>-0.486299</td>\n",
              "      <td>-0.031266</td>\n",
              "      <td>-0.072543</td>\n",
              "      <td>38.44</td>\n",
              "      <td>0</td>\n",
              "    </tr>\n",
              "    <tr>\n",
              "      <th>72083</th>\n",
              "      <td>54557.0</td>\n",
              "      <td>1.105167</td>\n",
              "      <td>-0.166253</td>\n",
              "      <td>0.569520</td>\n",
              "      <td>0.681043</td>\n",
              "      <td>-0.259189</td>\n",
              "      <td>0.642792</td>\n",
              "      <td>-0.437034</td>\n",
              "      <td>0.356746</td>\n",
              "      <td>0.441417</td>\n",
              "      <td>-0.113006</td>\n",
              "      <td>1.263824</td>\n",
              "      <td>1.017046</td>\n",
              "      <td>-0.791270</td>\n",
              "      <td>0.181033</td>\n",
              "      <td>-0.530067</td>\n",
              "      <td>-0.733662</td>\n",
              "      <td>0.436861</td>\n",
              "      <td>-0.903134</td>\n",
              "      <td>-0.242185</td>\n",
              "      <td>-0.226981</td>\n",
              "      <td>0.009073</td>\n",
              "      <td>0.293023</td>\n",
              "      <td>-0.028688</td>\n",
              "      <td>-0.242206</td>\n",
              "      <td>0.389813</td>\n",
              "      <td>0.482852</td>\n",
              "      <td>0.010705</td>\n",
              "      <td>-0.008399</td>\n",
              "      <td>1.00</td>\n",
              "      <td>0</td>\n",
              "    </tr>\n",
              "    <tr>\n",
              "      <th>196949</th>\n",
              "      <td>131771.0</td>\n",
              "      <td>1.805238</td>\n",
              "      <td>0.961264</td>\n",
              "      <td>-1.717212</td>\n",
              "      <td>4.094625</td>\n",
              "      <td>0.938666</td>\n",
              "      <td>-0.227785</td>\n",
              "      <td>0.152911</td>\n",
              "      <td>0.066753</td>\n",
              "      <td>-1.073784</td>\n",
              "      <td>0.334537</td>\n",
              "      <td>1.016183</td>\n",
              "      <td>-0.510443</td>\n",
              "      <td>-0.748733</td>\n",
              "      <td>-2.708662</td>\n",
              "      <td>-1.014069</td>\n",
              "      <td>2.220866</td>\n",
              "      <td>1.285249</td>\n",
              "      <td>1.619087</td>\n",
              "      <td>-1.602343</td>\n",
              "      <td>-0.150818</td>\n",
              "      <td>-0.137875</td>\n",
              "      <td>-0.450959</td>\n",
              "      <td>0.098530</td>\n",
              "      <td>-0.662272</td>\n",
              "      <td>-0.150154</td>\n",
              "      <td>-0.098852</td>\n",
              "      <td>-0.000030</td>\n",
              "      <td>0.017622</td>\n",
              "      <td>37.89</td>\n",
              "      <td>0</td>\n",
              "    </tr>\n",
              "    <tr>\n",
              "      <th>126213</th>\n",
              "      <td>77959.0</td>\n",
              "      <td>0.835421</td>\n",
              "      <td>-1.191847</td>\n",
              "      <td>0.578455</td>\n",
              "      <td>0.586101</td>\n",
              "      <td>-1.236663</td>\n",
              "      <td>0.194617</td>\n",
              "      <td>-0.532404</td>\n",
              "      <td>0.061561</td>\n",
              "      <td>-0.734344</td>\n",
              "      <td>0.754427</td>\n",
              "      <td>0.513247</td>\n",
              "      <td>0.704388</td>\n",
              "      <td>0.472193</td>\n",
              "      <td>-0.072043</td>\n",
              "      <td>-0.357247</td>\n",
              "      <td>-1.136932</td>\n",
              "      <td>-0.436168</td>\n",
              "      <td>2.047641</td>\n",
              "      <td>-0.775130</td>\n",
              "      <td>-0.045313</td>\n",
              "      <td>-0.072349</td>\n",
              "      <td>-0.109154</td>\n",
              "      <td>-0.308356</td>\n",
              "      <td>0.011968</td>\n",
              "      <td>0.461350</td>\n",
              "      <td>-0.244810</td>\n",
              "      <td>0.031845</td>\n",
              "      <td>0.060910</td>\n",
              "      <td>237.00</td>\n",
              "      <td>0</td>\n",
              "    </tr>\n",
              "  </tbody>\n",
              "</table>\n",
              "</div>"
            ],
            "text/plain": [
              "            Time        V1        V2  ...       V28  Amount  Class\n",
              "264873  161634.0 -0.395578  1.489129  ... -0.036960    2.74      0\n",
              "163821  116237.0  1.950487  0.002312  ... -0.072543   38.44      0\n",
              "72083    54557.0  1.105167 -0.166253  ... -0.008399    1.00      0\n",
              "196949  131771.0  1.805238  0.961264  ...  0.017622   37.89      0\n",
              "126213   77959.0  0.835421 -1.191847  ...  0.060910  237.00      0\n",
              "\n",
              "[5 rows x 31 columns]"
            ]
          },
          "metadata": {
            "tags": []
          },
          "execution_count": 151
        }
      ]
    },
    {
      "cell_type": "code",
      "metadata": {
        "id": "J1o6duMSi0iD",
        "colab_type": "code",
        "colab": {}
      },
      "source": [
        "y_train = upsampled.Class\n",
        "X_train = upsampled.drop('Class', axis=1)\n",
        "\n",
        "LrUpsampled = LogisticRegression(solver='liblinear')\n",
        "LrUpsampled = LrUpsampled.fit(X_train, y_train)\n",
        "\n",
        "LrUpsampled_pred = LrUpsampled.predict(X_test)"
      ],
      "execution_count": 0,
      "outputs": []
    },
    {
      "cell_type": "code",
      "metadata": {
        "id": "R8_e91crUfBS",
        "colab_type": "code",
        "outputId": "d235f7ac-1347-4cdb-f40f-3bfa891c827c",
        "colab": {
          "base_uri": "https://localhost:8080/",
          "height": 0
        }
      },
      "source": [
        "auc = roc_auc_score(y_test, LrUpsampled_pred )#funcion para encontrar el auc\n",
        "print('AUC: %.2f' % auc)"
      ],
      "execution_count": 153,
      "outputs": [
        {
          "output_type": "stream",
          "text": [
            "AUC: 0.93\n"
          ],
          "name": "stdout"
        }
      ]
    },
    {
      "cell_type": "code",
      "metadata": {
        "id": "SEghLSkOUoQR",
        "colab_type": "code",
        "outputId": "5aa5313f-4248-4430-cee2-5f265dd2b1f0",
        "colab": {
          "base_uri": "https://localhost:8080/",
          "height": 0
        }
      },
      "source": [
        "frp, tpr, threshold = roc_curve(y_test, LrUpsampled_pred)\n",
        "plot_roc_auc(frp, tpr)"
      ],
      "execution_count": 154,
      "outputs": [
        {
          "output_type": "display_data",
          "data": {
            "image/png": "[encoded data removed]",
            "text/plain": [
              "<Figure size 864x432 with 1 Axes>"
            ]
          },
          "metadata": {
            "tags": [],
            "needs_background": "light"
          }
        }
      ]
    },
    {
      "cell_type": "code",
      "metadata": {
        "id": "Uzm6bJF2kHFa",
        "colab_type": "code",
        "outputId": "617684d5-6039-4513-cc6d-b1d6d032ebb5",
        "colab": {
          "base_uri": "https://localhost:8080/",
          "height": 0
        }
      },
      "source": [
        "# Verificamos Exactitud\n",
        "accuracy_score(y_test, LrUpsampled_pred)"
      ],
      "execution_count": 155,
      "outputs": [
        {
          "output_type": "execute_result",
          "data": {
            "text/plain": [
              "0.9807589674447347"
            ]
          },
          "metadata": {
            "tags": []
          },
          "execution_count": 155
        }
      ]
    },
    {
      "cell_type": "code",
      "metadata": {
        "id": "bWeal1DQkVsN",
        "colab_type": "code",
        "outputId": "35d38f20-f0c3-4319-cda4-f836bcc36d15",
        "colab": {
          "base_uri": "https://localhost:8080/",
          "height": 0
        }
      },
      "source": [
        "# f1 score\n",
        "f1_score(y_test, LrUpsampled_pred)"
      ],
      "execution_count": 156,
      "outputs": [
        {
          "output_type": "execute_result",
          "data": {
            "text/plain": [
              "0.14375000000000002"
            ]
          },
          "metadata": {
            "tags": []
          },
          "execution_count": 156
        }
      ]
    },
    {
      "cell_type": "code",
      "metadata": {
        "id": "nd2GmgGXkaPT",
        "colab_type": "code",
        "outputId": "63046e74-9911-47b9-e4b3-2e3e26b86807",
        "colab": {
          "base_uri": "https://localhost:8080/",
          "height": 0
        }
      },
      "source": [
        "# confusion matrix\n",
        "pd.DataFrame(confusion_matrix(y_test, LrUpsampled_pred))"
      ],
      "execution_count": 157,
      "outputs": [
        {
          "output_type": "execute_result",
          "data": {
            "text/html": [
              "<div>\n",
              "<style scoped>\n",
              "    .dataframe tbody tr th:only-of-type {\n",
              "        vertical-align: middle;\n",
              "    }\n",
              "\n",
              "    .dataframe tbody tr th {\n",
              "        vertical-align: top;\n",
              "    }\n",
              "\n",
              "    .dataframe thead th {\n",
              "        text-align: right;\n",
              "    }\n",
              "</style>\n",
              "<table border=\"1\" class=\"dataframe\">\n",
              "  <thead>\n",
              "    <tr style=\"text-align: right;\">\n",
              "      <th></th>\n",
              "      <th>0</th>\n",
              "      <th>1</th>\n",
              "    </tr>\n",
              "  </thead>\n",
              "  <tbody>\n",
              "    <tr>\n",
              "      <th>0</th>\n",
              "      <td>69717</td>\n",
              "      <td>1353</td>\n",
              "    </tr>\n",
              "    <tr>\n",
              "      <th>1</th>\n",
              "      <td>17</td>\n",
              "      <td>115</td>\n",
              "    </tr>\n",
              "  </tbody>\n",
              "</table>\n",
              "</div>"
            ],
            "text/plain": [
              "       0     1\n",
              "0  69717  1353\n",
              "1     17   115"
            ]
          },
          "metadata": {
            "tags": []
          },
          "execution_count": 157
        }
      ]
    },
    {
      "cell_type": "code",
      "metadata": {
        "id": "qRxnosMq1Lf9",
        "colab_type": "code",
        "outputId": "63b6e755-51c5-40e2-a191-e2c9f09de42c",
        "colab": {
          "base_uri": "https://localhost:8080/",
          "height": 0
        }
      },
      "source": [
        "# Plot non-normalized confusion matrix\n",
        "titles_options = [(\"Confusion matrix, without normalization\", None),\n",
        "                  (\"Normalized confusion matrix\", 'true')]\n",
        "for title, normalize in titles_options:\n",
        "    disp = plot_confusion_matrix(LrUpsampled, X_test, y_test,\n",
        "                                 display_labels=['0','1'],\n",
        "                                 cmap=plt.cm.Blues,\n",
        "                                 normalize=normalize)\n",
        "    disp.ax_.set_title(title)\n",
        "\n",
        "    print(title)\n",
        "    print(disp.confusion_matrix)\n",
        "\n",
        "plt.show()"
      ],
      "execution_count": 158,
      "outputs": [
        {
          "output_type": "stream",
          "text": [
            "Confusion matrix, without normalization\n",
            "[[69717  1353]\n",
            " [   17   115]]\n",
            "Normalized confusion matrix\n",
            "[[0.98096243 0.01903757]\n",
            " [0.12878788 0.87121212]]\n"
          ],
          "name": "stdout"
        },
        {
          "output_type": "display_data",
          "data": {
            "image/png": "[encoded data removed]",
            "text/plain": [
              "<Figure size 432x288 with 2 Axes>"
            ]
          },
          "metadata": {
            "tags": [],
            "needs_background": "light"
          }
        },
        {
          "output_type": "display_data",
          "data": {
            "image/png": "[encoded data removed]",
            "text/plain": [
              "<Figure size 432x288 with 2 Axes>"
            ]
          },
          "metadata": {
            "tags": [],
            "needs_background": "light"
          }
        }
      ]
    },
    {
      "cell_type": "code",
      "metadata": {
        "id": "kdvWlMEdkzXL",
        "colab_type": "code",
        "outputId": "b195a394-74c0-4c3a-82bb-e174433a49cb",
        "colab": {
          "base_uri": "https://localhost:8080/",
          "height": 0
        }
      },
      "source": [
        "recall_score(y_test, LrUpsampled_pred)"
      ],
      "execution_count": 159,
      "outputs": [
        {
          "output_type": "execute_result",
          "data": {
            "text/plain": [
              "0.8712121212121212"
            ]
          },
          "metadata": {
            "tags": []
          },
          "execution_count": 159
        }
      ]
    },
    {
      "cell_type": "markdown",
      "metadata": {
        "id": "D1CsAqByobfC",
        "colab_type": "text"
      },
      "source": [
        "Nuestro puntaje de precisión disminuyó después del muestreo ascendente, pero el modelo ahora predice ambas clases de manera más equitativa, lo que lo convierte en una mejora sobre nuestra regresión logística simple anterior."
      ]
    },
    {
      "cell_type": "markdown",
      "metadata": {
        "id": "9PaAFX2AooNy",
        "colab_type": "text"
      },
      "source": [
        "#Submuestreo de la mayoria \n",
        "\n"
      ]
    },
    {
      "cell_type": "markdown",
      "metadata": {
        "id": "bQqYseQKouXb",
        "colab_type": "text"
      },
      "source": [
        "El submuestreo se puede definir como la eliminación de algunas observaciones de la clase mayoritaria. El submuestreo puede ser una buena opción cuando tiene una toneladas de datos: piense en millones de filas. Pero un inconveniente del submuestreo es que estamos eliminando información que puede ser valiosa.\n",
        "\n",
        "Nuevamente usaremos el módulo de remuestreo de Scikit-Learn para eliminar aleatoriamente muestras de la clase mayoritaria."
      ]
    },
    {
      "cell_type": "code",
      "metadata": {
        "id": "oJ6u--14o3Wj",
        "colab_type": "code",
        "outputId": "86ff0a45-686e-468c-e1d3-4fc79a1d2e55",
        "colab": {
          "base_uri": "https://localhost:8080/",
          "height": 0
        }
      },
      "source": [
        " #continuo usando nuestras clases separadas de fraude y no fraude desde arriba\n",
        "\n",
        "# disminución de la mayoría\n",
        "normal_downsampled = resample(not_fraud,\n",
        "                                replace = False, # sample without replacement\n",
        "                                n_samples = len(fraud), # match minority n\n",
        "                                random_state = 27) # reproducible results\n",
        "\n",
        "# combine minority and downsampled majority\n",
        "downsampled = pd.concat([normal_downsampled, fraud])\n",
        "\n",
        "# checking counts\n",
        "downsampled.Class.value_counts()"
      ],
      "execution_count": 160,
      "outputs": [
        {
          "output_type": "execute_result",
          "data": {
            "text/plain": [
              "1    360\n",
              "0    360\n",
              "Name: Class, dtype: int64"
            ]
          },
          "metadata": {
            "tags": []
          },
          "execution_count": 160
        }
      ]
    },
    {
      "cell_type": "code",
      "metadata": {
        "id": "h75z7IeOr-aS",
        "colab_type": "code",
        "colab": {}
      },
      "source": [
        "# trying logistic regression again with the undersampled dataset\n",
        "\n",
        "y_train = downsampled.Class\n",
        "X_train = downsampled.drop('Class', axis=1)\n",
        "\n",
        "LrUndersampled = LogisticRegression(solver='liblinear').fit(X_train, y_train)\n",
        "\n",
        "LrUndersampled_pred = LrUndersampled.predict(X_test)"
      ],
      "execution_count": 0,
      "outputs": []
    },
    {
      "cell_type": "code",
      "metadata": {
        "id": "Ik33UA6edPDg",
        "colab_type": "code",
        "outputId": "49c6d03e-aee9-44ea-ac4d-b133524421cb",
        "colab": {
          "base_uri": "https://localhost:8080/",
          "height": 0
        }
      },
      "source": [
        "auc = roc_auc_score(y_test, LrUndersampled_pred )#funcion para encontrar el auc\n",
        "print('AUC: %.2f' % auc)"
      ],
      "execution_count": 162,
      "outputs": [
        {
          "output_type": "stream",
          "text": [
            "AUC: 0.92\n"
          ],
          "name": "stdout"
        }
      ]
    },
    {
      "cell_type": "code",
      "metadata": {
        "id": "KPvAMWFYdcUl",
        "colab_type": "code",
        "outputId": "71794ed3-4d34-44bc-a259-bc6c0add6606",
        "colab": {
          "base_uri": "https://localhost:8080/",
          "height": 0
        }
      },
      "source": [
        "frp, tpr, threshold = roc_curve(y_test,  LrUndersampled_pred)\n",
        "plot_roc_auc(frp, tpr)"
      ],
      "execution_count": 163,
      "outputs": [
        {
          "output_type": "display_data",
          "data": {
            "image/png": "[encoded data removed]",
            "text/plain": [
              "<Figure size 864x432 with 1 Axes>"
            ]
          },
          "metadata": {
            "tags": [],
            "needs_background": "light"
          }
        }
      ]
    },
    {
      "cell_type": "code",
      "metadata": {
        "id": "BEaX735WsJKr",
        "colab_type": "code",
        "outputId": "1166a9ad-6afb-47e1-bbcc-ac596492171b",
        "colab": {
          "base_uri": "https://localhost:8080/",
          "height": 0
        }
      },
      "source": [
        "# f1 score\n",
        "f1_score(y_test, LrUndersampled_pred)"
      ],
      "execution_count": 164,
      "outputs": [
        {
          "output_type": "execute_result",
          "data": {
            "text/plain": [
              "0.11710323574730355"
            ]
          },
          "metadata": {
            "tags": []
          },
          "execution_count": 164
        }
      ]
    },
    {
      "cell_type": "code",
      "metadata": {
        "id": "9nT9dRbTsF5Y",
        "colab_type": "code",
        "outputId": "45b76936-c579-42c6-991f-44e599ec5baf",
        "colab": {
          "base_uri": "https://localhost:8080/",
          "height": 0
        }
      },
      "source": [
        "# Checking accuracy\n",
        "accuracy_score(y_test, LrUndersampled_pred)"
      ],
      "execution_count": 165,
      "outputs": [
        {
          "output_type": "execute_result",
          "data": {
            "text/plain": [
              "0.9758574197354007"
            ]
          },
          "metadata": {
            "tags": []
          },
          "execution_count": 165
        }
      ]
    },
    {
      "cell_type": "code",
      "metadata": {
        "id": "ulOkFRnq2j7B",
        "colab_type": "code",
        "outputId": "5d48bc8f-6add-44f5-b805-26035378232e",
        "colab": {
          "base_uri": "https://localhost:8080/",
          "height": 0
        }
      },
      "source": [
        "# Plot non-normalized confusion matrix\n",
        "titles_options = [(\"Confusion matrix, without normalization\", None),\n",
        "                  (\"Normalized confusion matrix\", 'true')]\n",
        "for title, normalize in titles_options:\n",
        "    disp = plot_confusion_matrix(LrUndersampled , X_test, y_test,\n",
        "                                 display_labels=['0','1'],\n",
        "                                 cmap=plt.cm.Blues,\n",
        "                                 normalize=normalize)\n",
        "    disp.ax_.set_title(title)\n",
        "\n",
        "    print(title)\n",
        "    print(disp.confusion_matrix)\n",
        "\n",
        "plt.show()"
      ],
      "execution_count": 166,
      "outputs": [
        {
          "output_type": "stream",
          "text": [
            "Confusion matrix, without normalization\n",
            "[[69369  1701]\n",
            " [   18   114]]\n",
            "Normalized confusion matrix\n",
            "[[0.97606585 0.02393415]\n",
            " [0.13636364 0.86363636]]\n"
          ],
          "name": "stdout"
        },
        {
          "output_type": "display_data",
          "data": {
            "image/png": "[encoded data removed]",
            "text/plain": [
              "<Figure size 432x288 with 2 Axes>"
            ]
          },
          "metadata": {
            "tags": [],
            "needs_background": "light"
          }
        },
        {
          "output_type": "display_data",
          "data": {
            "image/png": "[encoded data removed]",
            "text/plain": [
              "<Figure size 432x288 with 2 Axes>"
            ]
          },
          "metadata": {
            "tags": [],
            "needs_background": "light"
          }
        }
      ]
    },
    {
      "cell_type": "code",
      "metadata": {
        "id": "dvpEPcrLsTlA",
        "colab_type": "code",
        "outputId": "d4c9aecc-89eb-4b18-e1df-4c7faa8aff0d",
        "colab": {
          "base_uri": "https://localhost:8080/",
          "height": 0
        }
      },
      "source": [
        "recall_score(y_test,  LrUndersampled_pred)"
      ],
      "execution_count": 167,
      "outputs": [
        {
          "output_type": "execute_result",
          "data": {
            "text/plain": [
              "0.8636363636363636"
            ]
          },
          "metadata": {
            "tags": []
          },
          "execution_count": 167
        }
      ]
    },
    {
      "cell_type": "markdown",
      "metadata": {
        "id": "TUy-BOKMtQBm",
        "colab_type": "text"
      },
      "source": [
        "#Generate Synthetic Samples"
      ]
    },
    {
      "cell_type": "markdown",
      "metadata": {
        "id": "NRJsP_QttVfc",
        "colab_type": "text"
      },
      "source": [
        "SMOTE o Synthetic Minority Oversampling Technique es un algoritmo popular para crear observaciones sintéticas de la clase minoritaria."
      ]
    },
    {
      "cell_type": "code",
      "metadata": {
        "id": "sYZ9fuqsv0bi",
        "colab_type": "code",
        "colab": {}
      },
      "source": [
        "from imblearn.over_sampling import SMOTE"
      ],
      "execution_count": 0,
      "outputs": []
    },
    {
      "cell_type": "code",
      "metadata": {
        "id": "Z3eKVBu2v47V",
        "colab_type": "code",
        "colab": {}
      },
      "source": [
        "smote = LogisticRegression(solver='liblinear')\n",
        "smote = smote.fit(X_train, y_train)\n",
        "\n",
        "smote_pred = smote.predict(X_test)"
      ],
      "execution_count": 0,
      "outputs": []
    },
    {
      "cell_type": "code",
      "metadata": {
        "id": "ZDeHY59ueX9J",
        "colab_type": "code",
        "outputId": "607ec250-1169-489d-f0a3-8fe657bc1918",
        "colab": {
          "base_uri": "https://localhost:8080/",
          "height": 0
        }
      },
      "source": [
        "auc = roc_auc_score(y_test, smote_pred )#funcion para encontrar el auc\n",
        "print('AUC: %.2f' % auc)"
      ],
      "execution_count": 170,
      "outputs": [
        {
          "output_type": "stream",
          "text": [
            "AUC: 0.92\n"
          ],
          "name": "stdout"
        }
      ]
    },
    {
      "cell_type": "code",
      "metadata": {
        "id": "INUEEoXcei9O",
        "colab_type": "code",
        "outputId": "8a40ffaf-33f2-4f5b-aeed-8d2f548e2f79",
        "colab": {
          "base_uri": "https://localhost:8080/",
          "height": 0
        }
      },
      "source": [
        "frp, tpr, threshold = roc_curve(y_test,  smote_pred )\n",
        "plot_roc_auc(frp, tpr)"
      ],
      "execution_count": 171,
      "outputs": [
        {
          "output_type": "display_data",
          "data": {
            "image/png": "[encoded data removed]",
            "text/plain": [
              "<Figure size 864x432 with 1 Axes>"
            ]
          },
          "metadata": {
            "tags": [],
            "needs_background": "light"
          }
        }
      ]
    },
    {
      "cell_type": "code",
      "metadata": {
        "id": "ueo23q-3e41E",
        "colab_type": "code",
        "outputId": "13a78493-ad80-4174-b910-7df76cd52175",
        "colab": {
          "base_uri": "https://localhost:8080/",
          "height": 0
        }
      },
      "source": [
        "# Checking accuracy\n",
        "accuracy_score(y_test, smote_pred)"
      ],
      "execution_count": 172,
      "outputs": [
        {
          "output_type": "execute_result",
          "data": {
            "text/plain": [
              "0.9758574197354007"
            ]
          },
          "metadata": {
            "tags": []
          },
          "execution_count": 172
        }
      ]
    },
    {
      "cell_type": "code",
      "metadata": {
        "id": "2BpJ5nwQv_Mm",
        "colab_type": "code",
        "outputId": "13a194f6-2eba-40f3-b274-dd97762d29b2",
        "colab": {
          "base_uri": "https://localhost:8080/",
          "height": 0
        }
      },
      "source": [
        "# f1 score\n",
        "f1_score(y_test, smote_pred)"
      ],
      "execution_count": 173,
      "outputs": [
        {
          "output_type": "execute_result",
          "data": {
            "text/plain": [
              "0.11710323574730355"
            ]
          },
          "metadata": {
            "tags": []
          },
          "execution_count": 173
        }
      ]
    },
    {
      "cell_type": "code",
      "metadata": {
        "id": "ZaDYodVp2gKG",
        "colab_type": "code",
        "outputId": "a73cd502-458c-42cf-965d-64e1f67301a3",
        "colab": {
          "base_uri": "https://localhost:8080/",
          "height": 0
        }
      },
      "source": [
        "# Plot non-normalized confusion matrix\n",
        "titles_options = [(\"Confusion matrix, without normalization\", None),\n",
        "                  (\"Normalized confusion matrix\", 'true')]\n",
        "for title, normalize in titles_options:\n",
        "    disp = plot_confusion_matrix(smote, X_test, y_test,\n",
        "                                 display_labels=['0','1'],\n",
        "                                 cmap=plt.cm.Blues,\n",
        "                                 normalize=normalize)\n",
        "    disp.ax_.set_title(title)\n",
        "\n",
        "    print(title)\n",
        "    print(disp.confusion_matrix)\n",
        "\n",
        "plt.show()"
      ],
      "execution_count": 174,
      "outputs": [
        {
          "output_type": "stream",
          "text": [
            "Confusion matrix, without normalization\n",
            "[[69369  1701]\n",
            " [   18   114]]\n",
            "Normalized confusion matrix\n",
            "[[0.97606585 0.02393415]\n",
            " [0.13636364 0.86363636]]\n"
          ],
          "name": "stdout"
        },
        {
          "output_type": "display_data",
          "data": {
            "image/png": "[encoded data removed]",
            "text/plain": [
              "<Figure size 432x288 with 2 Axes>"
            ]
          },
          "metadata": {
            "tags": [],
            "needs_background": "light"
          }
        },
        {
          "output_type": "display_data",
          "data": {
            "image/png": "[encoded data removed]",
            "text/plain": [
              "<Figure size 432x288 with 2 Axes>"
            ]
          },
          "metadata": {
            "tags": [],
            "needs_background": "light"
          }
        }
      ]
    },
    {
      "cell_type": "code",
      "metadata": {
        "id": "hixePiAqwRCa",
        "colab_type": "code",
        "outputId": "2a66147c-0dda-4180-f469-71767d646d65",
        "colab": {
          "base_uri": "https://localhost:8080/",
          "height": 0
        }
      },
      "source": [
        "recall_score(y_test, smote_pred)"
      ],
      "execution_count": 175,
      "outputs": [
        {
          "output_type": "execute_result",
          "data": {
            "text/plain": [
              "0.8636363636363636"
            ]
          },
          "metadata": {
            "tags": []
          },
          "execution_count": 175
        }
      ]
    },
    {
      "cell_type": "markdown",
      "metadata": {
        "id": "Yl_pfksAsblH",
        "colab_type": "text"
      },
      "source": [
        "¡La disminución de muestreo produjo una puntuación de recuperación más alta que el muestreo superior! Mi preocupación aquí es la pequeña cantidad de muestras totales que utilizamos para entrenar el modelo."
      ]
    },
    {
      "cell_type": "markdown",
      "metadata": {
        "id": "Ekdem1AewbMN",
        "colab_type": "text"
      },
      "source": [
        "#Conclusion"
      ]
    },
    {
      "cell_type": "markdown",
      "metadata": {
        "id": "S940KgK-wg2n",
        "colab_type": "text"
      },
      "source": [
        "Cubrimos 5 métodos diferentes para tratar con conjuntos de datos desequilibrados:\n",
        "\n",
        "Cambiar la métrica de rendimiento\n",
        "\n",
        "*   Cambiar la métrica de rendimiento\n",
        "*   Sobremuestreo de clase minoritaria\n",
        "*   Clase mayoritaria de submuestreo\n",
        "*   Cambiar el algoritmo\n",
        "*   Generar muestras sintéticas.\n",
        "\n",
        "Estos son solo algunos de los muchos métodos posibles para tratar cuando se trata de conjuntos de datos desequilibrados, y no una lista exhaustiva. Algunos otros métodos a tener en cuenta son la recopilación de más datos o la elección de diferentes proporciones de muestreo: ¡no es necesario tener exactamente una proporción 1: 1! Siempre debe intentar varios enfoques y luego decidir cuál es el mejor para su problema."
      ]
    },
    {
      "cell_type": "code",
      "metadata": {
        "id": "X5WMZzUZ4E-L",
        "colab_type": "code",
        "colab": {}
      },
      "source": [
        "from collections import Counter\n",
        "from sklearn.datasets import make_classification\n",
        "from imblearn.combine import SMOTEENN # doctest: +NORMALIZE_WHITESPACE\n"
      ],
      "execution_count": 0,
      "outputs": []
    },
    {
      "cell_type": "code",
      "metadata": {
        "id": "IQyPmjYU4E-N",
        "colab_type": "code",
        "outputId": "a5440bac-1114-45dd-d443-ddab6a4ddd94",
        "colab": {
          "base_uri": "https://localhost:8080/",
          "height": 137
        }
      },
      "source": [
        "# print('Original dataset shape %s' % Counter(y_train))\n",
        "sme = SMOTEENN(random_state=42)\n",
        "X_res, y_res = sme.fit_resample(X_train, y_train)\n",
        "# print('Resampled dataset shape %s' % Counter(y_res))\n",
        "# Resampled dataset shape Counter({0: 900, 1: 881})"
      ],
      "execution_count": 177,
      "outputs": [
        {
          "output_type": "stream",
          "text": [
            "/usr/local/lib/python3.6/dist-packages/sklearn/utils/deprecation.py:87: FutureWarning: Function safe_indexing is deprecated; safe_indexing is deprecated in version 0.22 and will be removed in version 0.24.\n",
            "  warnings.warn(msg, category=FutureWarning)\n",
            "/usr/local/lib/python3.6/dist-packages/sklearn/utils/deprecation.py:87: FutureWarning: Function safe_indexing is deprecated; safe_indexing is deprecated in version 0.22 and will be removed in version 0.24.\n",
            "  warnings.warn(msg, category=FutureWarning)\n",
            "/usr/local/lib/python3.6/dist-packages/sklearn/utils/deprecation.py:87: FutureWarning: Function safe_indexing is deprecated; safe_indexing is deprecated in version 0.22 and will be removed in version 0.24.\n",
            "  warnings.warn(msg, category=FutureWarning)\n"
          ],
          "name": "stderr"
        }
      ]
    },
    {
      "cell_type": "code",
      "metadata": {
        "id": "UbMjgPe84E-P",
        "colab_type": "code",
        "outputId": "c4068cee-b55f-496f-dbf1-89bb71270b25",
        "colab": {
          "base_uri": "https://localhost:8080/",
          "height": 33
        }
      },
      "source": [
        "X_res.shape,y_res.shape"
      ],
      "execution_count": 178,
      "outputs": [
        {
          "output_type": "execute_result",
          "data": {
            "text/plain": [
              "((200, 30), (200,))"
            ]
          },
          "metadata": {
            "tags": []
          },
          "execution_count": 178
        }
      ]
    },
    {
      "cell_type": "code",
      "metadata": {
        "id": "PSzVmflsWABs",
        "colab_type": "code",
        "colab": {}
      },
      "source": [
        "sme = LogisticRegression(solver='liblinear')\n",
        "sme = sme.fit(X_res, y_res)\n",
        "\n",
        "sme_pred = sme.predict(X_test)\n"
      ],
      "execution_count": 0,
      "outputs": []
    },
    {
      "cell_type": "code",
      "metadata": {
        "id": "R2dy15x1gDmv",
        "colab_type": "code",
        "outputId": "1f5b3177-287b-4627-d6d4-9a34b56b7777",
        "colab": {
          "base_uri": "https://localhost:8080/",
          "height": 33
        }
      },
      "source": [
        "auc = roc_auc_score(y_test, sme_pred  )#funcion para encontrar el auc\n",
        "print('AUC: %.2f' % auc)"
      ],
      "execution_count": 180,
      "outputs": [
        {
          "output_type": "stream",
          "text": [
            "AUC: 0.91\n"
          ],
          "name": "stdout"
        }
      ]
    },
    {
      "cell_type": "code",
      "metadata": {
        "id": "jgSMBGPggvLr",
        "colab_type": "code",
        "outputId": "eeaeb4e9-431c-4fd9-c2be-a25e0f5eccea",
        "colab": {
          "base_uri": "https://localhost:8080/",
          "height": 404
        }
      },
      "source": [
        "frp, tpr, threshold = roc_curve(y_test, sme_pred  )\n",
        "plot_roc_auc(frp, tpr)"
      ],
      "execution_count": 181,
      "outputs": [
        {
          "output_type": "display_data",
          "data": {
            "image/png": "[encoded data removed]",
            "text/plain": [
              "<Figure size 864x432 with 1 Axes>"
            ]
          },
          "metadata": {
            "tags": [],
            "needs_background": "light"
          }
        }
      ]
    },
    {
      "cell_type": "code",
      "metadata": {
        "id": "Ld_zE-r0WP2k",
        "colab_type": "code",
        "outputId": "02ddd917-ea1e-40b6-9c30-a313940c8ff2",
        "colab": {
          "base_uri": "https://localhost:8080/",
          "height": 33
        }
      },
      "source": [
        "# Checking accuracy\n",
        "accuracy_score(y_test, sme_pred )"
      ],
      "execution_count": 182,
      "outputs": [
        {
          "output_type": "execute_result",
          "data": {
            "text/plain": [
              "0.9629223898205107"
            ]
          },
          "metadata": {
            "tags": []
          },
          "execution_count": 182
        }
      ]
    },
    {
      "cell_type": "code",
      "metadata": {
        "id": "LnDUrX7sXlLA",
        "colab_type": "code",
        "outputId": "fa68e367-69ef-4072-ffe2-918c0431e1f0",
        "colab": {
          "base_uri": "https://localhost:8080/",
          "height": 33
        }
      },
      "source": [
        "# f1 score\n",
        "f1_score(y_test, sme_pred)"
      ],
      "execution_count": 183,
      "outputs": [
        {
          "output_type": "execute_result",
          "data": {
            "text/plain": [
              "0.0794979079497908"
            ]
          },
          "metadata": {
            "tags": []
          },
          "execution_count": 183
        }
      ]
    },
    {
      "cell_type": "code",
      "metadata": {
        "id": "34Yk_IzCiNi2",
        "colab_type": "code",
        "outputId": "d307d09a-3e61-4361-f292-4d6c1284ee50",
        "colab": {
          "base_uri": "https://localhost:8080/",
          "height": 107
        }
      },
      "source": [
        "# confustion matrix\n",
        "pd.DataFrame(confusion_matrix(y_test, sme_pred ))"
      ],
      "execution_count": 184,
      "outputs": [
        {
          "output_type": "execute_result",
          "data": {
            "text/html": [
              "<div>\n",
              "<style scoped>\n",
              "    .dataframe tbody tr th:only-of-type {\n",
              "        vertical-align: middle;\n",
              "    }\n",
              "\n",
              "    .dataframe tbody tr th {\n",
              "        vertical-align: top;\n",
              "    }\n",
              "\n",
              "    .dataframe thead th {\n",
              "        text-align: right;\n",
              "    }\n",
              "</style>\n",
              "<table border=\"1\" class=\"dataframe\">\n",
              "  <thead>\n",
              "    <tr style=\"text-align: right;\">\n",
              "      <th></th>\n",
              "      <th>0</th>\n",
              "      <th>1</th>\n",
              "    </tr>\n",
              "  </thead>\n",
              "  <tbody>\n",
              "    <tr>\n",
              "      <th>0</th>\n",
              "      <td>68448</td>\n",
              "      <td>2622</td>\n",
              "    </tr>\n",
              "    <tr>\n",
              "      <th>1</th>\n",
              "      <td>18</td>\n",
              "      <td>114</td>\n",
              "    </tr>\n",
              "  </tbody>\n",
              "</table>\n",
              "</div>"
            ],
            "text/plain": [
              "       0     1\n",
              "0  68448  2622\n",
              "1     18   114"
            ]
          },
          "metadata": {
            "tags": []
          },
          "execution_count": 184
        }
      ]
    },
    {
      "cell_type": "markdown",
      "metadata": {
        "id": "rWPCw5GarTvB",
        "colab_type": "text"
      },
      "source": [
        "Support Vector MachinePython"
      ]
    },
    {
      "cell_type": "code",
      "metadata": {
        "id": "NhPKs56RpmGp",
        "colab_type": "code",
        "colab": {}
      },
      "source": [
        "from sklearn.svm import SVC"
      ],
      "execution_count": 0,
      "outputs": []
    },
    {
      "cell_type": "code",
      "metadata": {
        "id": "PMEL0aMKriBv",
        "colab_type": "code",
        "colab": {}
      },
      "source": [
        "clf_3 = SVC(kernel='linear', \n",
        "            class_weight='balanced', # penalize\n",
        "            probability=True)"
      ],
      "execution_count": 0,
      "outputs": []
    },
    {
      "cell_type": "code",
      "metadata": {
        "id": "PwoKXS3CrkZH",
        "colab_type": "code",
        "outputId": "f875a2d6-a191-485f-d0e1-38ce8c6d3a36",
        "colab": {
          "base_uri": "https://localhost:8080/",
          "height": 83
        }
      },
      "source": [
        "clf_3.fit(X_train, y_train)"
      ],
      "execution_count": 187,
      "outputs": [
        {
          "output_type": "execute_result",
          "data": {
            "text/plain": [
              "SVC(C=1.0, break_ties=False, cache_size=200, class_weight='balanced', coef0=0.0,\n",
              "    decision_function_shape='ovr', degree=3, gamma='scale', kernel='linear',\n",
              "    max_iter=-1, probability=True, random_state=None, shrinking=True, tol=0.001,\n",
              "    verbose=False)"
            ]
          },
          "metadata": {
            "tags": []
          },
          "execution_count": 187
        }
      ]
    },
    {
      "cell_type": "code",
      "metadata": {
        "id": "Y4TEQ8zXrse3",
        "colab_type": "code",
        "colab": {}
      },
      "source": [
        "pred_y_3 = clf_3.predict(X_test)"
      ],
      "execution_count": 0,
      "outputs": []
    },
    {
      "cell_type": "code",
      "metadata": {
        "id": "wMYgWj7jsp4-",
        "colab_type": "code",
        "outputId": "625b03b1-6025-4675-b8fa-666c66f711c0",
        "colab": {
          "base_uri": "https://localhost:8080/",
          "height": 67
        }
      },
      "source": [
        "# Is our model still predicting just one class?\n",
        "print( np.unique( pred_y_3 ) )\n",
        "# [0 1]\n",
        " \n",
        "# How's our accuracy?\n",
        "print( accuracy_score(y_test, pred_y_3) )\n",
        "# 0.688\n",
        " \n",
        "# What about AUROC?\n",
        "prob_y_2 = clf_3.predict_proba(X_train) #obtener una lista con probabilidades pronosticadas por clase.\n",
        "prob_y_3 = [p[1] for p in prob_y_2]\n",
        "print( roc_auc_score(y_train, prob_y_3) )\n",
        "# 0.5305236678"
      ],
      "execution_count": 207,
      "outputs": [
        {
          "output_type": "stream",
          "text": [
            "[0 1]\n",
            "0.9705485800960647\n",
            "0.9524845679012346\n"
          ],
          "name": "stdout"
        }
      ]
    },
    {
      "cell_type": "code",
      "metadata": {
        "id": "PXTCnMTssz36",
        "colab_type": "code",
        "colab": {
          "base_uri": "https://localhost:8080/",
          "height": 33
        },
        "outputId": "7d121ac1-e710-46b2-ea10-30b1850a6a49"
      },
      "source": [
        "auc = roc_auc_score(y_test, prob_y_3)#funcion para encontrar el auc\n",
        "print('AUC: %.2f' % auc)"
      ],
      "execution_count": 194,
      "outputs": [
        {
          "output_type": "stream",
          "text": [
            "AUC: 0.94\n"
          ],
          "name": "stdout"
        }
      ]
    },
    {
      "cell_type": "code",
      "metadata": {
        "id": "DjnzwrxrvyZq",
        "colab_type": "code",
        "colab": {
          "base_uri": "https://localhost:8080/",
          "height": 404
        },
        "outputId": "195cd7c9-6593-42b8-c12d-e2018df1fdbb"
      },
      "source": [
        "frp, tpr, threshold = roc_curve(y_train, prob_y_3)\n",
        "plot_roc_auc(frp, tpr)"
      ],
      "execution_count": 198,
      "outputs": [
        {
          "output_type": "display_data",
          "data": {
            "image/png": "[encoded data removed]",
            "text/plain": [
              "<Figure size 864x432 with 1 Axes>"
            ]
          },
          "metadata": {
            "tags": [],
            "needs_background": "light"
          }
        }
      ]
    },
    {
      "cell_type": "code",
      "metadata": {
        "id": "F7F-OUirv5GB",
        "colab_type": "code",
        "colab": {
          "base_uri": "https://localhost:8080/",
          "height": 673
        },
        "outputId": "adcd2a86-12e0-4297-b069-4bf04f9bac1e"
      },
      "source": [
        "# Plot non-normalized confusion matrix\n",
        "titles_options = [(\"Confusion matrix, without normalization\", None),\n",
        "                  (\"Normalized confusion matrix\", 'true')]\n",
        "for title, normalize in titles_options:\n",
        "    disp = plot_confusion_matrix(clf_3, X_test, y_test, \n",
        "                                 display_labels=['0','1'],\n",
        "                                 cmap=plt.cm.Blues,\n",
        "                                 normalize=normalize)\n",
        "    disp.ax_.set_title(title)\n",
        "\n",
        "    print(title)\n",
        "    print(disp.confusion_matrix)\n",
        "\n",
        "plt.show()"
      ],
      "execution_count": 193,
      "outputs": [
        {
          "output_type": "stream",
          "text": [
            "Confusion matrix, without normalization\n",
            "[[69000  2070]\n",
            " [   27   105]]\n",
            "Normalized confusion matrix\n",
            "[[0.97087379 0.02912621]\n",
            " [0.20454545 0.79545455]]\n"
          ],
          "name": "stdout"
        },
        {
          "output_type": "display_data",
          "data": {
            "image/png": "[encoded data removed]",
            "text/plain": [
              "<Figure size 432x288 with 2 Axes>"
            ]
          },
          "metadata": {
            "tags": [],
            "needs_background": "light"
          }
        },
        {
          "output_type": "display_data",
          "data": {
            "image/png": "[encoded data removed]",
            "text/plain": [
              "<Figure size 432x288 with 2 Axes>"
            ]
          },
          "metadata": {
            "tags": [],
            "needs_background": "light"
          }
        }
      ]
    },
    {
      "cell_type": "code",
      "metadata": {
        "id": "sHh4aYewxpQb",
        "colab_type": "code",
        "colab": {
          "base_uri": "https://localhost:8080/",
          "height": 150
        },
        "outputId": "674d1a69-6bee-4947-b096-b69c9e732848"
      },
      "source": [
        "clf_4 = RandomForestClassifier()\n",
        "clf_4.fit(X_train, y_train)"
      ],
      "execution_count": 211,
      "outputs": [
        {
          "output_type": "execute_result",
          "data": {
            "text/plain": [
              "RandomForestClassifier(bootstrap=True, ccp_alpha=0.0, class_weight=None,\n",
              "                       criterion='gini', max_depth=None, max_features='auto',\n",
              "                       max_leaf_nodes=None, max_samples=None,\n",
              "                       min_impurity_decrease=0.0, min_impurity_split=None,\n",
              "                       min_samples_leaf=1, min_samples_split=2,\n",
              "                       min_weight_fraction_leaf=0.0, n_estimators=100,\n",
              "                       n_jobs=None, oob_score=False, random_state=None,\n",
              "                       verbose=0, warm_start=False)"
            ]
          },
          "metadata": {
            "tags": []
          },
          "execution_count": 211
        }
      ]
    },
    {
      "cell_type": "code",
      "metadata": {
        "id": "Z3vkmL8i2IbD",
        "colab_type": "code",
        "colab": {}
      },
      "source": [
        "# Predict on training set\n",
        "pred_y_4 = clf_4.predict(X_train)"
      ],
      "execution_count": 0,
      "outputs": []
    },
    {
      "cell_type": "code",
      "metadata": {
        "id": "UND7PnrN2Ru0",
        "colab_type": "code",
        "colab": {}
      },
      "source": [
        "prob_y_4 = clf_4.predict_proba(X_test)"
      ],
      "execution_count": 0,
      "outputs": []
    },
    {
      "cell_type": "code",
      "metadata": {
        "id": "eEuCi8dF2U4L",
        "colab_type": "code",
        "colab": {
          "base_uri": "https://localhost:8080/",
          "height": 33
        },
        "outputId": "e8889587-4ed8-4048-8134-7dba27053ad5"
      },
      "source": [
        "prob_y_4 = [p[1] for p in prob_y_4]\n",
        "print( roc_auc_score(y_test, prob_y_4) )"
      ],
      "execution_count": 217,
      "outputs": [
        {
          "output_type": "stream",
          "text": [
            "0.9761425994857822\n"
          ],
          "name": "stdout"
        }
      ]
    },
    {
      "cell_type": "code",
      "metadata": {
        "id": "wjMa-31w2X-L",
        "colab_type": "code",
        "colab": {
          "base_uri": "https://localhost:8080/",
          "height": 404
        },
        "outputId": "b5250b89-1749-4189-95a2-35213ff47bdc"
      },
      "source": [
        "frp, tpr, threshold = roc_curve(y_test, prob_y_4)\n",
        "plot_roc_auc(frp, tpr)"
      ],
      "execution_count": 219,
      "outputs": [
        {
          "output_type": "display_data",
          "data": {
            "image/png": "[encoded data removed]",
            "text/plain": [
              "<Figure size 864x432 with 1 Axes>"
            ]
          },
          "metadata": {
            "tags": [],
            "needs_background": "light"
          }
        }
      ]
    },
    {
      "cell_type": "code",
      "metadata": {
        "id": "51r0ynrc2-Bv",
        "colab_type": "code",
        "colab": {}
      },
      "source": [
        ""
      ],
      "execution_count": 0,
      "outputs": []
    }
  ]
}